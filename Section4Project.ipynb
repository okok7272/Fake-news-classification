{
  "nbformat": 4,
  "nbformat_minor": 0,
  "metadata": {
    "colab": {
      "provenance": [],
      "collapsed_sections": [],
      "machine_shape": "hm"
    },
    "kernelspec": {
      "name": "python3",
      "display_name": "Python 3"
    },
    "language_info": {
      "name": "python"
    },
    "accelerator": "GPU",
    "gpuClass": "standard"
  },
  "cells": [
    {
      "cell_type": "code",
      "source": [
        "!apt-get update\n",
        "!apt-get install g++ openjdk-8-jdk python-dev python3-dev\n",
        "!pip install JPype1\n",
        "!pip install konlpy\n",
        "!JAVA_HOME=\"C:\\Program Files\\Java\\jdk-19\"\n"
      ],
      "metadata": {
        "colab": {
          "base_uri": "https://localhost:8080/"
        },
        "id": "TVsWxf2Yk7AG",
        "outputId": "915ce6c0-7bcd-4beb-81db-1b070726b077"
      },
      "execution_count": 1,
      "outputs": [
        {
          "output_type": "stream",
          "name": "stdout",
          "text": [
            "Hit:1 http://archive.ubuntu.com/ubuntu bionic InRelease\n",
            "Get:2 http://security.ubuntu.com/ubuntu bionic-security InRelease [88.7 kB]\n",
            "Ign:3 https://developer.download.nvidia.com/compute/machine-learning/repos/ubuntu1804/x86_64  InRelease\n",
            "Get:4 https://developer.download.nvidia.com/compute/cuda/repos/ubuntu1804/x86_64  InRelease [1,581 B]\n",
            "Get:5 http://ppa.launchpad.net/c2d4u.team/c2d4u4.0+/ubuntu bionic InRelease [15.9 kB]\n",
            "Hit:6 https://developer.download.nvidia.com/compute/machine-learning/repos/ubuntu1804/x86_64  Release\n",
            "Get:7 http://archive.ubuntu.com/ubuntu bionic-updates InRelease [88.7 kB]\n",
            "Get:8 https://cloud.r-project.org/bin/linux/ubuntu bionic-cran40/ InRelease [3,626 B]\n",
            "Hit:9 http://ppa.launchpad.net/cran/libgit2/ubuntu bionic InRelease\n",
            "Get:10 https://developer.download.nvidia.com/compute/cuda/repos/ubuntu1804/x86_64  Packages [947 kB]\n",
            "Get:11 http://archive.ubuntu.com/ubuntu bionic-backports InRelease [83.3 kB]\n",
            "Hit:12 http://ppa.launchpad.net/deadsnakes/ppa/ubuntu bionic InRelease\n",
            "Get:14 http://ppa.launchpad.net/graphics-drivers/ppa/ubuntu bionic InRelease [21.3 kB]\n",
            "Get:15 http://ppa.launchpad.net/c2d4u.team/c2d4u4.0+/ubuntu bionic/main Sources [2,155 kB]\n",
            "Get:16 http://security.ubuntu.com/ubuntu bionic-security/main amd64 Packages [2,990 kB]\n",
            "Get:17 http://archive.ubuntu.com/ubuntu bionic-updates/universe amd64 Packages [2,323 kB]\n",
            "Get:18 http://security.ubuntu.com/ubuntu bionic-security/universe amd64 Packages [1,546 kB]\n",
            "Get:19 http://ppa.launchpad.net/c2d4u.team/c2d4u4.0+/ubuntu bionic/main amd64 Packages [1,104 kB]\n",
            "Get:20 http://archive.ubuntu.com/ubuntu bionic-updates/main amd64 Packages [3,422 kB]\n",
            "Get:21 http://ppa.launchpad.net/graphics-drivers/ppa/ubuntu bionic/main amd64 Packages [48.3 kB]\n",
            "Fetched 14.8 MB in 3s (5,235 kB/s)\n",
            "Reading package lists... Done\n",
            "Reading package lists... Done\n",
            "Building dependency tree       \n",
            "Reading state information... Done\n",
            "python-dev is already the newest version (2.7.15~rc1-1).\n",
            "g++ is already the newest version (4:7.4.0-1ubuntu2.3).\n",
            "g++ set to manually installed.\n",
            "python3-dev is already the newest version (3.6.7-1~18.04).\n",
            "python3-dev set to manually installed.\n",
            "The following package was automatically installed and is no longer required:\n",
            "  libnvidia-common-460\n",
            "Use 'apt autoremove' to remove it.\n",
            "The following additional packages will be installed:\n",
            "  fonts-dejavu-core fonts-dejavu-extra libatk-wrapper-java\n",
            "  libatk-wrapper-java-jni libgail-common libgail18 libgtk2.0-0 libgtk2.0-bin\n",
            "  libgtk2.0-common libxxf86dga1 openjdk-8-jdk-headless openjdk-8-jre\n",
            "  openjdk-8-jre-headless x11-utils\n",
            "Suggested packages:\n",
            "  gvfs openjdk-8-demo openjdk-8-source visualvm libnss-mdns\n",
            "  fonts-ipafont-gothic fonts-ipafont-mincho fonts-wqy-microhei\n",
            "  fonts-wqy-zenhei fonts-indic mesa-utils\n",
            "The following NEW packages will be installed:\n",
            "  fonts-dejavu-core fonts-dejavu-extra libatk-wrapper-java\n",
            "  libatk-wrapper-java-jni libgail-common libgail18 libgtk2.0-0 libgtk2.0-bin\n",
            "  libgtk2.0-common libxxf86dga1 openjdk-8-jdk openjdk-8-jdk-headless\n",
            "  openjdk-8-jre openjdk-8-jre-headless x11-utils\n",
            "0 upgraded, 15 newly installed, 0 to remove and 24 not upgraded.\n",
            "Need to get 46.0 MB of archives.\n",
            "After this operation, 166 MB of additional disk space will be used.\n",
            "Get:1 http://archive.ubuntu.com/ubuntu bionic/main amd64 libxxf86dga1 amd64 2:1.1.4-1 [13.7 kB]\n",
            "Get:2 http://archive.ubuntu.com/ubuntu bionic/main amd64 fonts-dejavu-core all 2.37-1 [1,041 kB]\n",
            "Get:3 http://archive.ubuntu.com/ubuntu bionic/main amd64 fonts-dejavu-extra all 2.37-1 [1,953 kB]\n",
            "Get:4 http://archive.ubuntu.com/ubuntu bionic/main amd64 x11-utils amd64 7.7+3build1 [196 kB]\n",
            "Get:5 http://archive.ubuntu.com/ubuntu bionic/main amd64 libatk-wrapper-java all 0.33.3-20ubuntu0.1 [34.7 kB]\n",
            "Get:6 http://archive.ubuntu.com/ubuntu bionic/main amd64 libatk-wrapper-java-jni amd64 0.33.3-20ubuntu0.1 [28.3 kB]\n",
            "Get:7 http://archive.ubuntu.com/ubuntu bionic/main amd64 libgtk2.0-common all 2.24.32-1ubuntu1 [125 kB]\n",
            "Get:8 http://archive.ubuntu.com/ubuntu bionic/main amd64 libgtk2.0-0 amd64 2.24.32-1ubuntu1 [1,769 kB]\n",
            "Get:9 http://archive.ubuntu.com/ubuntu bionic/main amd64 libgail18 amd64 2.24.32-1ubuntu1 [14.2 kB]\n",
            "Get:10 http://archive.ubuntu.com/ubuntu bionic/main amd64 libgail-common amd64 2.24.32-1ubuntu1 [112 kB]\n",
            "Get:11 http://archive.ubuntu.com/ubuntu bionic/main amd64 libgtk2.0-bin amd64 2.24.32-1ubuntu1 [7,536 B]\n",
            "Get:12 http://archive.ubuntu.com/ubuntu bionic-updates/universe amd64 openjdk-8-jre-headless amd64 8u342-b07-0ubuntu1~18.04 [28.3 MB]\n",
            "Get:13 http://archive.ubuntu.com/ubuntu bionic-updates/universe amd64 openjdk-8-jre amd64 8u342-b07-0ubuntu1~18.04 [69.6 kB]\n",
            "Get:14 http://archive.ubuntu.com/ubuntu bionic-updates/universe amd64 openjdk-8-jdk-headless amd64 8u342-b07-0ubuntu1~18.04 [8,300 kB]\n",
            "Get:15 http://archive.ubuntu.com/ubuntu bionic-updates/universe amd64 openjdk-8-jdk amd64 8u342-b07-0ubuntu1~18.04 [4,032 kB]\n",
            "Fetched 46.0 MB in 1s (51.9 MB/s)\n",
            "Selecting previously unselected package libxxf86dga1:amd64.\n",
            "(Reading database ... 159447 files and directories currently installed.)\n",
            "Preparing to unpack .../00-libxxf86dga1_2%3a1.1.4-1_amd64.deb ...\n",
            "Unpacking libxxf86dga1:amd64 (2:1.1.4-1) ...\n",
            "Selecting previously unselected package fonts-dejavu-core.\n",
            "Preparing to unpack .../01-fonts-dejavu-core_2.37-1_all.deb ...\n",
            "Unpacking fonts-dejavu-core (2.37-1) ...\n",
            "Selecting previously unselected package fonts-dejavu-extra.\n",
            "Preparing to unpack .../02-fonts-dejavu-extra_2.37-1_all.deb ...\n",
            "Unpacking fonts-dejavu-extra (2.37-1) ...\n",
            "Selecting previously unselected package x11-utils.\n",
            "Preparing to unpack .../03-x11-utils_7.7+3build1_amd64.deb ...\n",
            "Unpacking x11-utils (7.7+3build1) ...\n",
            "Selecting previously unselected package libatk-wrapper-java.\n",
            "Preparing to unpack .../04-libatk-wrapper-java_0.33.3-20ubuntu0.1_all.deb ...\n",
            "Unpacking libatk-wrapper-java (0.33.3-20ubuntu0.1) ...\n",
            "Selecting previously unselected package libatk-wrapper-java-jni:amd64.\n",
            "Preparing to unpack .../05-libatk-wrapper-java-jni_0.33.3-20ubuntu0.1_amd64.deb ...\n",
            "Unpacking libatk-wrapper-java-jni:amd64 (0.33.3-20ubuntu0.1) ...\n",
            "Selecting previously unselected package libgtk2.0-common.\n",
            "Preparing to unpack .../06-libgtk2.0-common_2.24.32-1ubuntu1_all.deb ...\n",
            "Unpacking libgtk2.0-common (2.24.32-1ubuntu1) ...\n",
            "Selecting previously unselected package libgtk2.0-0:amd64.\n",
            "Preparing to unpack .../07-libgtk2.0-0_2.24.32-1ubuntu1_amd64.deb ...\n",
            "Unpacking libgtk2.0-0:amd64 (2.24.32-1ubuntu1) ...\n",
            "Selecting previously unselected package libgail18:amd64.\n",
            "Preparing to unpack .../08-libgail18_2.24.32-1ubuntu1_amd64.deb ...\n",
            "Unpacking libgail18:amd64 (2.24.32-1ubuntu1) ...\n",
            "Selecting previously unselected package libgail-common:amd64.\n",
            "Preparing to unpack .../09-libgail-common_2.24.32-1ubuntu1_amd64.deb ...\n",
            "Unpacking libgail-common:amd64 (2.24.32-1ubuntu1) ...\n",
            "Selecting previously unselected package libgtk2.0-bin.\n",
            "Preparing to unpack .../10-libgtk2.0-bin_2.24.32-1ubuntu1_amd64.deb ...\n",
            "Unpacking libgtk2.0-bin (2.24.32-1ubuntu1) ...\n",
            "Selecting previously unselected package openjdk-8-jre-headless:amd64.\n",
            "Preparing to unpack .../11-openjdk-8-jre-headless_8u342-b07-0ubuntu1~18.04_amd64.deb ...\n",
            "Unpacking openjdk-8-jre-headless:amd64 (8u342-b07-0ubuntu1~18.04) ...\n",
            "Selecting previously unselected package openjdk-8-jre:amd64.\n",
            "Preparing to unpack .../12-openjdk-8-jre_8u342-b07-0ubuntu1~18.04_amd64.deb ...\n",
            "Unpacking openjdk-8-jre:amd64 (8u342-b07-0ubuntu1~18.04) ...\n",
            "Selecting previously unselected package openjdk-8-jdk-headless:amd64.\n",
            "Preparing to unpack .../13-openjdk-8-jdk-headless_8u342-b07-0ubuntu1~18.04_amd64.deb ...\n",
            "Unpacking openjdk-8-jdk-headless:amd64 (8u342-b07-0ubuntu1~18.04) ...\n",
            "Selecting previously unselected package openjdk-8-jdk:amd64.\n",
            "Preparing to unpack .../14-openjdk-8-jdk_8u342-b07-0ubuntu1~18.04_amd64.deb ...\n",
            "Unpacking openjdk-8-jdk:amd64 (8u342-b07-0ubuntu1~18.04) ...\n",
            "Setting up libgtk2.0-common (2.24.32-1ubuntu1) ...\n",
            "Setting up fonts-dejavu-core (2.37-1) ...\n",
            "Setting up libxxf86dga1:amd64 (2:1.1.4-1) ...\n",
            "Setting up fonts-dejavu-extra (2.37-1) ...\n",
            "Setting up openjdk-8-jre-headless:amd64 (8u342-b07-0ubuntu1~18.04) ...\n",
            "update-alternatives: using /usr/lib/jvm/java-8-openjdk-amd64/jre/bin/orbd to provide /usr/bin/orbd (orbd) in auto mode\n",
            "update-alternatives: using /usr/lib/jvm/java-8-openjdk-amd64/jre/bin/servertool to provide /usr/bin/servertool (servertool) in auto mode\n",
            "update-alternatives: using /usr/lib/jvm/java-8-openjdk-amd64/jre/bin/tnameserv to provide /usr/bin/tnameserv (tnameserv) in auto mode\n",
            "Setting up libgtk2.0-0:amd64 (2.24.32-1ubuntu1) ...\n",
            "Setting up libgail18:amd64 (2.24.32-1ubuntu1) ...\n",
            "Setting up openjdk-8-jdk-headless:amd64 (8u342-b07-0ubuntu1~18.04) ...\n",
            "update-alternatives: using /usr/lib/jvm/java-8-openjdk-amd64/bin/idlj to provide /usr/bin/idlj (idlj) in auto mode\n",
            "update-alternatives: using /usr/lib/jvm/java-8-openjdk-amd64/bin/wsimport to provide /usr/bin/wsimport (wsimport) in auto mode\n",
            "update-alternatives: using /usr/lib/jvm/java-8-openjdk-amd64/bin/jsadebugd to provide /usr/bin/jsadebugd (jsadebugd) in auto mode\n",
            "update-alternatives: using /usr/lib/jvm/java-8-openjdk-amd64/bin/native2ascii to provide /usr/bin/native2ascii (native2ascii) in auto mode\n",
            "update-alternatives: using /usr/lib/jvm/java-8-openjdk-amd64/bin/javah to provide /usr/bin/javah (javah) in auto mode\n",
            "update-alternatives: using /usr/lib/jvm/java-8-openjdk-amd64/bin/clhsdb to provide /usr/bin/clhsdb (clhsdb) in auto mode\n",
            "update-alternatives: using /usr/lib/jvm/java-8-openjdk-amd64/bin/xjc to provide /usr/bin/xjc (xjc) in auto mode\n",
            "update-alternatives: using /usr/lib/jvm/java-8-openjdk-amd64/bin/hsdb to provide /usr/bin/hsdb (hsdb) in auto mode\n",
            "update-alternatives: using /usr/lib/jvm/java-8-openjdk-amd64/bin/schemagen to provide /usr/bin/schemagen (schemagen) in auto mode\n",
            "update-alternatives: using /usr/lib/jvm/java-8-openjdk-amd64/bin/extcheck to provide /usr/bin/extcheck (extcheck) in auto mode\n",
            "update-alternatives: using /usr/lib/jvm/java-8-openjdk-amd64/bin/jhat to provide /usr/bin/jhat (jhat) in auto mode\n",
            "update-alternatives: using /usr/lib/jvm/java-8-openjdk-amd64/bin/wsgen to provide /usr/bin/wsgen (wsgen) in auto mode\n",
            "Setting up x11-utils (7.7+3build1) ...\n",
            "Setting up libgail-common:amd64 (2.24.32-1ubuntu1) ...\n",
            "Setting up libatk-wrapper-java (0.33.3-20ubuntu0.1) ...\n",
            "Setting up libgtk2.0-bin (2.24.32-1ubuntu1) ...\n",
            "Setting up libatk-wrapper-java-jni:amd64 (0.33.3-20ubuntu0.1) ...\n",
            "Setting up openjdk-8-jre:amd64 (8u342-b07-0ubuntu1~18.04) ...\n",
            "update-alternatives: using /usr/lib/jvm/java-8-openjdk-amd64/jre/bin/policytool to provide /usr/bin/policytool (policytool) in auto mode\n",
            "Setting up openjdk-8-jdk:amd64 (8u342-b07-0ubuntu1~18.04) ...\n",
            "update-alternatives: using /usr/lib/jvm/java-8-openjdk-amd64/bin/appletviewer to provide /usr/bin/appletviewer (appletviewer) in auto mode\n",
            "update-alternatives: using /usr/lib/jvm/java-8-openjdk-amd64/bin/jconsole to provide /usr/bin/jconsole (jconsole) in auto mode\n",
            "Processing triggers for man-db (2.8.3-2ubuntu0.1) ...\n",
            "Processing triggers for hicolor-icon-theme (0.17-2) ...\n",
            "Processing triggers for fontconfig (2.12.6-0ubuntu2) ...\n",
            "Processing triggers for mime-support (3.60ubuntu1) ...\n",
            "Processing triggers for libc-bin (2.27-3ubuntu1.5) ...\n",
            "Looking in indexes: https://pypi.org/simple, https://us-python.pkg.dev/colab-wheels/public/simple/\n",
            "Collecting JPype1\n",
            "  Downloading JPype1-1.4.0-cp37-cp37m-manylinux_2_5_x86_64.manylinux1_x86_64.whl (453 kB)\n",
            "\u001b[K     |████████████████████████████████| 453 kB 5.1 MB/s \n",
            "\u001b[?25hRequirement already satisfied: typing-extensions in /usr/local/lib/python3.7/dist-packages (from JPype1) (4.1.1)\n",
            "Installing collected packages: JPype1\n",
            "Successfully installed JPype1-1.4.0\n",
            "Looking in indexes: https://pypi.org/simple, https://us-python.pkg.dev/colab-wheels/public/simple/\n",
            "Collecting konlpy\n",
            "  Downloading konlpy-0.6.0-py2.py3-none-any.whl (19.4 MB)\n",
            "\u001b[K     |████████████████████████████████| 19.4 MB 4.4 MB/s \n",
            "\u001b[?25hRequirement already satisfied: numpy>=1.6 in /usr/local/lib/python3.7/dist-packages (from konlpy) (1.21.6)\n",
            "Requirement already satisfied: JPype1>=0.7.0 in /usr/local/lib/python3.7/dist-packages (from konlpy) (1.4.0)\n",
            "Requirement already satisfied: lxml>=4.1.0 in /usr/local/lib/python3.7/dist-packages (from konlpy) (4.9.1)\n",
            "Requirement already satisfied: typing-extensions in /usr/local/lib/python3.7/dist-packages (from JPype1>=0.7.0->konlpy) (4.1.1)\n",
            "Installing collected packages: konlpy\n",
            "Successfully installed konlpy-0.6.0\n"
          ]
        }
      ]
    },
    {
      "cell_type": "code",
      "source": [
        "import konlpy\n",
        "\n",
        "from konlpy.tag import Okt\n",
        "\n",
        "from konlpy.utils import pprint\n",
        "\n",
        "okt = Okt()"
      ],
      "metadata": {
        "id": "2f823_MIvu2L"
      },
      "execution_count": 2,
      "outputs": []
    },
    {
      "cell_type": "markdown",
      "source": [
        "# 새 섹션"
      ],
      "metadata": {
        "id": "YaMyK1Q10uQ8"
      }
    },
    {
      "cell_type": "code",
      "source": [
        "!pip install fasttext"
      ],
      "metadata": {
        "colab": {
          "base_uri": "https://localhost:8080/"
        },
        "id": "55aUhnm1paqz",
        "outputId": "2bdf17bb-5060-46f8-dfe6-c1f92cd4c3bb"
      },
      "execution_count": 3,
      "outputs": [
        {
          "output_type": "stream",
          "name": "stdout",
          "text": [
            "Looking in indexes: https://pypi.org/simple, https://us-python.pkg.dev/colab-wheels/public/simple/\n",
            "Collecting fasttext\n",
            "  Downloading fasttext-0.9.2.tar.gz (68 kB)\n",
            "\u001b[K     |████████████████████████████████| 68 kB 3.4 MB/s \n",
            "\u001b[?25hCollecting pybind11>=2.2\n",
            "  Using cached pybind11-2.10.0-py3-none-any.whl (213 kB)\n",
            "Requirement already satisfied: setuptools>=0.7.0 in /usr/local/lib/python3.7/dist-packages (from fasttext) (57.4.0)\n",
            "Requirement already satisfied: numpy in /usr/local/lib/python3.7/dist-packages (from fasttext) (1.21.6)\n",
            "Building wheels for collected packages: fasttext\n",
            "  Building wheel for fasttext (setup.py) ... \u001b[?25l\u001b[?25hdone\n",
            "  Created wheel for fasttext: filename=fasttext-0.9.2-cp37-cp37m-linux_x86_64.whl size=3167624 sha256=44823a65e4d89a87eb59632d303adaf2ec333ff3a9191d23c9d99c215a8952b5\n",
            "  Stored in directory: /root/.cache/pip/wheels/4e/ca/bf/b020d2be95f7641801a6597a29c8f4f19e38f9c02a345bab9b\n",
            "Successfully built fasttext\n",
            "Installing collected packages: pybind11, fasttext\n",
            "Successfully installed fasttext-0.9.2 pybind11-2.10.0\n"
          ]
        }
      ]
    },
    {
      "cell_type": "code",
      "execution_count": 4,
      "metadata": {
        "id": "CjwaIUNfcyZc"
      },
      "outputs": [],
      "source": [
        "\n",
        "import numpy as np\n",
        "import tensorflow as tf\n",
        "\n",
        "np.random.seed(42)\n",
        "tf.random.set_seed(42)"
      ]
    },
    {
      "cell_type": "code",
      "source": [
        "from konlpy.tag import *\n",
        "import fasttext\n",
        "import pandas as pd\n",
        "import re\n",
        "from tqdm import tqdm_notebook\n",
        "import numpy as np\n",
        "from tensorflow.keras.layers import LSTM, Activation, Dropout, Dense, Input, Bidirectional\n",
        "from tensorflow.keras.layers import Embedding\n",
        "from tensorflow.keras.models import Model\n",
        "from tensorflow.keras.callbacks import EarlyStopping\n",
        "from tensorflow.keras import layers\n",
        "import keras\n",
        "from tensorflow.keras.models import Sequential\n",
        "from tensorflow.keras.preprocessing.text import Tokenizer\n",
        "from tensorflow.keras.preprocessing.sequence import pad_sequences"
      ],
      "metadata": {
        "id": "lHi1sWeKpMSq"
      },
      "execution_count": 5,
      "outputs": []
    },
    {
      "cell_type": "code",
      "source": [
        "from konlpy.tag import Okt\n",
        "okt = Okt()\n"
      ],
      "metadata": {
        "id": "GOwO8Lk4rhZ2"
      },
      "execution_count": 6,
      "outputs": []
    },
    {
      "cell_type": "markdown",
      "source": [
        "데이터셋 불러오기"
      ],
      "metadata": {
        "id": "6pCTYQpqd0u-"
      }
    },
    {
      "cell_type": "markdown",
      "source": [
        "자료는 공공 데이터 포탈에서 참고했습니다.\n",
        "\n",
        "https://www.data.go.kr/data/15086437/fileData.do\n",
        "\n"
      ],
      "metadata": {
        "id": "zryWLl6KR9tj"
      }
    },
    {
      "cell_type": "code",
      "source": [],
      "metadata": {
        "id": "jtll2eXMR9P3"
      },
      "execution_count": null,
      "outputs": []
    },
    {
      "cell_type": "code",
      "source": [
        "import pandas as pd"
      ],
      "metadata": {
        "id": "FXIHzg9sdrBk"
      },
      "execution_count": 7,
      "outputs": []
    },
    {
      "cell_type": "code",
      "source": [
        "from google.colab import drive\n",
        "drive.mount('/content/drive')"
      ],
      "metadata": {
        "id": "NfjWmnVjYwux",
        "outputId": "3f8bdd90-2d1e-4bfd-dae0-acc7cf556a15",
        "colab": {
          "base_uri": "https://localhost:8080/"
        }
      },
      "execution_count": 9,
      "outputs": [
        {
          "output_type": "stream",
          "name": "stdout",
          "text": [
            "Mounted at /content/drive\n"
          ]
        }
      ]
    },
    {
      "cell_type": "code",
      "source": [
        "df_corona = pd.read_csv('/content/drive/MyDrive/Section4 Project/corona.csv')\n",
        "df_culture = pd.read_csv('/content/drive/MyDrive/Section4 Project/culture.csv', encoding='cp949')\n",
        "df_fake = pd.read_csv('/content/drive/MyDrive/Section4 Project/fake_news.csv')"
      ],
      "metadata": {
        "id": "oU8mvsEHd5LO"
      },
      "execution_count": 31,
      "outputs": []
    },
    {
      "cell_type": "code",
      "source": [
        "df_corona.head()"
      ],
      "metadata": {
        "colab": {
          "base_uri": "https://localhost:8080/",
          "height": 1000
        },
        "id": "sYpDliA9d60d",
        "outputId": "419dcbd0-be2d-4dd8-ef3d-26f12f6627b7"
      },
      "execution_count": 32,
      "outputs": [
        {
          "output_type": "execute_result",
          "data": {
            "text/plain": [
              "                                                  주소          일자     언론사  기고자  \\\n",
              "0  http://www.bigkinds.or.kr/news/newsDetailView....  2021-07-01  디지털타임스  박재찬   \n",
              "1  http://www.bigkinds.or.kr/news/newsDetailView....  2021-07-01  디지털타임스   은진   \n",
              "2  http://www.bigkinds.or.kr/news/newsDetailView....  2021-07-01  디지털타임스  강민성   \n",
              "3  http://www.bigkinds.or.kr/news/newsDetailView....  2021-07-01  디지털타임스  강민성   \n",
              "4  http://www.bigkinds.or.kr/news/newsDetailView....  2021-07-01  디지털타임스  강민성   \n",
              "\n",
              "                                               제목   통합 분류1 통합 분류2    통합 분류3  \\\n",
              "0          폭염에 올 여름 전력수요 사상 최고치 전망...삐끗하면 `정전` 우려    경제>자원  경제>유통    경제>자동차   \n",
              "1  상반기 수출 3000억달러 돌파…반도체·친환경 날개 달고 올해 `역대급` 실적 전망    경제>무역  경제>유통  경제>증권_증시   \n",
              "2         나라빚 1000조인데, 채무상환 고작 2조…전문가들 재정정상화 생색내기  경제>경제일반    NaN       NaN   \n",
              "3                                  국세청 신임 차장에 임광현    지역>경남  지역>대구     지역>대전   \n",
              "4                           국세청 차장에 임광현…서울청장에 임성빈    지역>경남  지역>대구     지역>대전   \n",
              "\n",
              "  사건_사고 분류1 사건_사고 분류2 사건_사고 분류3                       개체명(인물)  \\\n",
              "0       NaN       NaN       NaN                           NaN   \n",
              "1       NaN       NaN       NaN                           문승욱   \n",
              "2       NaN       NaN       NaN                 박영범, 신세돈, 홍남기   \n",
              "3       NaN       NaN       NaN            김재철, 김창기, 임광현, 임성빈   \n",
              "4       NaN       NaN       NaN  김재철, 김창기, 임광현, 임광현…서울청장, 임성빈   \n",
              "\n",
              "                        개체명(지역)  \\\n",
              "0           경기, 고성하이화력, 부산, 태양광   \n",
              "1  미국, 아세안, 인도, 일본, 중국, 중남미, 중동   \n",
              "2                           NaN   \n",
              "3        경북, 봉화, 장흥, 전남, 충남, 홍성   \n",
              "4        경북, 봉화, 장흥, 전남, 충남, 홍성   \n",
              "\n",
              "                                           개체명(기업기관)  \\\n",
              "0                      국무총리, 산업부, 산업통상자원부, 전력거래소, 정부   \n",
              "1  CIS, EU, KOTRA, 무역협회, 산업부, 산업연구원, 산업통상자원부, 석유화...   \n",
              "2                  경제학과, 국가재정법, 기획재정부, 숙명여대, 정부, 한성대   \n",
              "3  국세청, 부산지방국세청, 부산청장, 서울지방국세청, 서울지방국세청장, 서울청, 중부...   \n",
              "4  국세청, 부산지방국세청, 부산청장, 서울지방국세청, 서울지방국세청장, 서울청, 중부...   \n",
              "\n",
              "                                                 키워드  \\\n",
              "0  폭염,전망,여름,전력,수요,사상,최고,정전,올여름,폭염,영향,산업,생산,증가,전기수...   \n",
              "1  3000억,상반기,수출,달러,돌파,반도체,친환경,날개,역대급,실적,전망,수출,상반기...   \n",
              "2  나라빚,채무상환,2조,전문가들,재정정상화,정부,초과,세수,예상,세계,잉여금,기금재원...   \n",
              "3  차장,국세청,신임,임광현,임광현,서울지방,국세청장,차장,국세청,임명,서울,청장,자리...   \n",
              "4  국세청,차장,임광현,서울청장,임성빈,국세청,인사,고위,정기,임광현,서울지방,국세청장...   \n",
              "\n",
              "                                                특성추출  \\\n",
              "0  여름철,올여름,산업부,전력수요,gw,예비력,대책기간,상한전망,발전기,전력판매량,최고...   \n",
              "1             반도체,상반기,수출액,친환경,3000억,원자재,기저효과,우리나라,경신   \n",
              "2  국가채무,2조,1000조,전문가,33조,채무상환,전문가들,본예산,한성대,홍남기,숙명...   \n",
              "3  국세청,서울지방국세청,임성빈,임광현,국세청장,부산,납세자,서울지방,서울지방국세청장,...   \n",
              "4  국세청,임성빈,서울지방국세청,임광현,국세청장,부산,납세자,서울청장,서울지방,서울지방...   \n",
              "\n",
              "                                                  본문  \\\n",
              "0  올여름 폭염과 산업생산 증가 영향으로 전기수요가 역대 최고치를 기록할 것이라는 전망...   \n",
              "1  올해 상반기 우리나라 수출이 누적 기준 사상 처음으로 3000억달러를 돌파했다......   \n",
              "2  정부가 올해 초과 세수 예상분 31조5000억원에 세계 잉여금, 기금재원까지 끌어모...   \n",
              "3  임광현 서울지방국세청장이 차기 국세청 차장으로 임명됐다... 서울청장 자리에는 임성...   \n",
              "4  임광현 서울지방국세청장이 차기 국세청 차장으로 임명됐다... 서울청장 자리에는 임성...   \n",
              "\n",
              "                                                원본주소  \n",
              "0  http://www.dt.co.kr/contents.html?article_no=2...  \n",
              "1  http://www.dt.co.kr/contents.html?article_no=2...  \n",
              "2  http://www.dt.co.kr/contents.html?article_no=2...  \n",
              "3  http://www.dt.co.kr/contents.html?article_no=2...  \n",
              "4  http://www.dt.co.kr/contents.html?article_no=2...  "
            ],
            "text/html": [
              "\n",
              "  <div id=\"df-167ef902-4bd9-4dfe-8a4c-d5cd0af7e6b2\">\n",
              "    <div class=\"colab-df-container\">\n",
              "      <div>\n",
              "<style scoped>\n",
              "    .dataframe tbody tr th:only-of-type {\n",
              "        vertical-align: middle;\n",
              "    }\n",
              "\n",
              "    .dataframe tbody tr th {\n",
              "        vertical-align: top;\n",
              "    }\n",
              "\n",
              "    .dataframe thead th {\n",
              "        text-align: right;\n",
              "    }\n",
              "</style>\n",
              "<table border=\"1\" class=\"dataframe\">\n",
              "  <thead>\n",
              "    <tr style=\"text-align: right;\">\n",
              "      <th></th>\n",
              "      <th>주소</th>\n",
              "      <th>일자</th>\n",
              "      <th>언론사</th>\n",
              "      <th>기고자</th>\n",
              "      <th>제목</th>\n",
              "      <th>통합 분류1</th>\n",
              "      <th>통합 분류2</th>\n",
              "      <th>통합 분류3</th>\n",
              "      <th>사건_사고 분류1</th>\n",
              "      <th>사건_사고 분류2</th>\n",
              "      <th>사건_사고 분류3</th>\n",
              "      <th>개체명(인물)</th>\n",
              "      <th>개체명(지역)</th>\n",
              "      <th>개체명(기업기관)</th>\n",
              "      <th>키워드</th>\n",
              "      <th>특성추출</th>\n",
              "      <th>본문</th>\n",
              "      <th>원본주소</th>\n",
              "    </tr>\n",
              "  </thead>\n",
              "  <tbody>\n",
              "    <tr>\n",
              "      <th>0</th>\n",
              "      <td>http://www.bigkinds.or.kr/news/newsDetailView....</td>\n",
              "      <td>2021-07-01</td>\n",
              "      <td>디지털타임스</td>\n",
              "      <td>박재찬</td>\n",
              "      <td>폭염에 올 여름 전력수요 사상 최고치 전망...삐끗하면 `정전` 우려</td>\n",
              "      <td>경제&gt;자원</td>\n",
              "      <td>경제&gt;유통</td>\n",
              "      <td>경제&gt;자동차</td>\n",
              "      <td>NaN</td>\n",
              "      <td>NaN</td>\n",
              "      <td>NaN</td>\n",
              "      <td>NaN</td>\n",
              "      <td>경기, 고성하이화력, 부산, 태양광</td>\n",
              "      <td>국무총리, 산업부, 산업통상자원부, 전력거래소, 정부</td>\n",
              "      <td>폭염,전망,여름,전력,수요,사상,최고,정전,올여름,폭염,영향,산업,생산,증가,전기수...</td>\n",
              "      <td>여름철,올여름,산업부,전력수요,gw,예비력,대책기간,상한전망,발전기,전력판매량,최고...</td>\n",
              "      <td>올여름 폭염과 산업생산 증가 영향으로 전기수요가 역대 최고치를 기록할 것이라는 전망...</td>\n",
              "      <td>http://www.dt.co.kr/contents.html?article_no=2...</td>\n",
              "    </tr>\n",
              "    <tr>\n",
              "      <th>1</th>\n",
              "      <td>http://www.bigkinds.or.kr/news/newsDetailView....</td>\n",
              "      <td>2021-07-01</td>\n",
              "      <td>디지털타임스</td>\n",
              "      <td>은진</td>\n",
              "      <td>상반기 수출 3000억달러 돌파…반도체·친환경 날개 달고 올해 `역대급` 실적 전망</td>\n",
              "      <td>경제&gt;무역</td>\n",
              "      <td>경제&gt;유통</td>\n",
              "      <td>경제&gt;증권_증시</td>\n",
              "      <td>NaN</td>\n",
              "      <td>NaN</td>\n",
              "      <td>NaN</td>\n",
              "      <td>문승욱</td>\n",
              "      <td>미국, 아세안, 인도, 일본, 중국, 중남미, 중동</td>\n",
              "      <td>CIS, EU, KOTRA, 무역협회, 산업부, 산업연구원, 산업통상자원부, 석유화...</td>\n",
              "      <td>3000억,상반기,수출,달러,돌파,반도체,친환경,날개,역대급,실적,전망,수출,상반기...</td>\n",
              "      <td>반도체,상반기,수출액,친환경,3000억,원자재,기저효과,우리나라,경신</td>\n",
              "      <td>올해 상반기 우리나라 수출이 누적 기준 사상 처음으로 3000억달러를 돌파했다......</td>\n",
              "      <td>http://www.dt.co.kr/contents.html?article_no=2...</td>\n",
              "    </tr>\n",
              "    <tr>\n",
              "      <th>2</th>\n",
              "      <td>http://www.bigkinds.or.kr/news/newsDetailView....</td>\n",
              "      <td>2021-07-01</td>\n",
              "      <td>디지털타임스</td>\n",
              "      <td>강민성</td>\n",
              "      <td>나라빚 1000조인데, 채무상환 고작 2조…전문가들 재정정상화 생색내기</td>\n",
              "      <td>경제&gt;경제일반</td>\n",
              "      <td>NaN</td>\n",
              "      <td>NaN</td>\n",
              "      <td>NaN</td>\n",
              "      <td>NaN</td>\n",
              "      <td>NaN</td>\n",
              "      <td>박영범, 신세돈, 홍남기</td>\n",
              "      <td>NaN</td>\n",
              "      <td>경제학과, 국가재정법, 기획재정부, 숙명여대, 정부, 한성대</td>\n",
              "      <td>나라빚,채무상환,2조,전문가들,재정정상화,정부,초과,세수,예상,세계,잉여금,기금재원...</td>\n",
              "      <td>국가채무,2조,1000조,전문가,33조,채무상환,전문가들,본예산,한성대,홍남기,숙명...</td>\n",
              "      <td>정부가 올해 초과 세수 예상분 31조5000억원에 세계 잉여금, 기금재원까지 끌어모...</td>\n",
              "      <td>http://www.dt.co.kr/contents.html?article_no=2...</td>\n",
              "    </tr>\n",
              "    <tr>\n",
              "      <th>3</th>\n",
              "      <td>http://www.bigkinds.or.kr/news/newsDetailView....</td>\n",
              "      <td>2021-07-01</td>\n",
              "      <td>디지털타임스</td>\n",
              "      <td>강민성</td>\n",
              "      <td>국세청 신임 차장에 임광현</td>\n",
              "      <td>지역&gt;경남</td>\n",
              "      <td>지역&gt;대구</td>\n",
              "      <td>지역&gt;대전</td>\n",
              "      <td>NaN</td>\n",
              "      <td>NaN</td>\n",
              "      <td>NaN</td>\n",
              "      <td>김재철, 김창기, 임광현, 임성빈</td>\n",
              "      <td>경북, 봉화, 장흥, 전남, 충남, 홍성</td>\n",
              "      <td>국세청, 부산지방국세청, 부산청장, 서울지방국세청, 서울지방국세청장, 서울청, 중부...</td>\n",
              "      <td>차장,국세청,신임,임광현,임광현,서울지방,국세청장,차장,국세청,임명,서울,청장,자리...</td>\n",
              "      <td>국세청,서울지방국세청,임성빈,임광현,국세청장,부산,납세자,서울지방,서울지방국세청장,...</td>\n",
              "      <td>임광현 서울지방국세청장이 차기 국세청 차장으로 임명됐다... 서울청장 자리에는 임성...</td>\n",
              "      <td>http://www.dt.co.kr/contents.html?article_no=2...</td>\n",
              "    </tr>\n",
              "    <tr>\n",
              "      <th>4</th>\n",
              "      <td>http://www.bigkinds.or.kr/news/newsDetailView....</td>\n",
              "      <td>2021-07-01</td>\n",
              "      <td>디지털타임스</td>\n",
              "      <td>강민성</td>\n",
              "      <td>국세청 차장에 임광현…서울청장에 임성빈</td>\n",
              "      <td>지역&gt;경남</td>\n",
              "      <td>지역&gt;대구</td>\n",
              "      <td>지역&gt;대전</td>\n",
              "      <td>NaN</td>\n",
              "      <td>NaN</td>\n",
              "      <td>NaN</td>\n",
              "      <td>김재철, 김창기, 임광현, 임광현…서울청장, 임성빈</td>\n",
              "      <td>경북, 봉화, 장흥, 전남, 충남, 홍성</td>\n",
              "      <td>국세청, 부산지방국세청, 부산청장, 서울지방국세청, 서울지방국세청장, 서울청, 중부...</td>\n",
              "      <td>국세청,차장,임광현,서울청장,임성빈,국세청,인사,고위,정기,임광현,서울지방,국세청장...</td>\n",
              "      <td>국세청,임성빈,서울지방국세청,임광현,국세청장,부산,납세자,서울청장,서울지방,서울지방...</td>\n",
              "      <td>임광현 서울지방국세청장이 차기 국세청 차장으로 임명됐다... 서울청장 자리에는 임성...</td>\n",
              "      <td>http://www.dt.co.kr/contents.html?article_no=2...</td>\n",
              "    </tr>\n",
              "  </tbody>\n",
              "</table>\n",
              "</div>\n",
              "      <button class=\"colab-df-convert\" onclick=\"convertToInteractive('df-167ef902-4bd9-4dfe-8a4c-d5cd0af7e6b2')\"\n",
              "              title=\"Convert this dataframe to an interactive table.\"\n",
              "              style=\"display:none;\">\n",
              "        \n",
              "  <svg xmlns=\"http://www.w3.org/2000/svg\" height=\"24px\"viewBox=\"0 0 24 24\"\n",
              "       width=\"24px\">\n",
              "    <path d=\"M0 0h24v24H0V0z\" fill=\"none\"/>\n",
              "    <path d=\"M18.56 5.44l.94 2.06.94-2.06 2.06-.94-2.06-.94-.94-2.06-.94 2.06-2.06.94zm-11 1L8.5 8.5l.94-2.06 2.06-.94-2.06-.94L8.5 2.5l-.94 2.06-2.06.94zm10 10l.94 2.06.94-2.06 2.06-.94-2.06-.94-.94-2.06-.94 2.06-2.06.94z\"/><path d=\"M17.41 7.96l-1.37-1.37c-.4-.4-.92-.59-1.43-.59-.52 0-1.04.2-1.43.59L10.3 9.45l-7.72 7.72c-.78.78-.78 2.05 0 2.83L4 21.41c.39.39.9.59 1.41.59.51 0 1.02-.2 1.41-.59l7.78-7.78 2.81-2.81c.8-.78.8-2.07 0-2.86zM5.41 20L4 18.59l7.72-7.72 1.47 1.35L5.41 20z\"/>\n",
              "  </svg>\n",
              "      </button>\n",
              "      \n",
              "  <style>\n",
              "    .colab-df-container {\n",
              "      display:flex;\n",
              "      flex-wrap:wrap;\n",
              "      gap: 12px;\n",
              "    }\n",
              "\n",
              "    .colab-df-convert {\n",
              "      background-color: #E8F0FE;\n",
              "      border: none;\n",
              "      border-radius: 50%;\n",
              "      cursor: pointer;\n",
              "      display: none;\n",
              "      fill: #1967D2;\n",
              "      height: 32px;\n",
              "      padding: 0 0 0 0;\n",
              "      width: 32px;\n",
              "    }\n",
              "\n",
              "    .colab-df-convert:hover {\n",
              "      background-color: #E2EBFA;\n",
              "      box-shadow: 0px 1px 2px rgba(60, 64, 67, 0.3), 0px 1px 3px 1px rgba(60, 64, 67, 0.15);\n",
              "      fill: #174EA6;\n",
              "    }\n",
              "\n",
              "    [theme=dark] .colab-df-convert {\n",
              "      background-color: #3B4455;\n",
              "      fill: #D2E3FC;\n",
              "    }\n",
              "\n",
              "    [theme=dark] .colab-df-convert:hover {\n",
              "      background-color: #434B5C;\n",
              "      box-shadow: 0px 1px 3px 1px rgba(0, 0, 0, 0.15);\n",
              "      filter: drop-shadow(0px 1px 2px rgba(0, 0, 0, 0.3));\n",
              "      fill: #FFFFFF;\n",
              "    }\n",
              "  </style>\n",
              "\n",
              "      <script>\n",
              "        const buttonEl =\n",
              "          document.querySelector('#df-167ef902-4bd9-4dfe-8a4c-d5cd0af7e6b2 button.colab-df-convert');\n",
              "        buttonEl.style.display =\n",
              "          google.colab.kernel.accessAllowed ? 'block' : 'none';\n",
              "\n",
              "        async function convertToInteractive(key) {\n",
              "          const element = document.querySelector('#df-167ef902-4bd9-4dfe-8a4c-d5cd0af7e6b2');\n",
              "          const dataTable =\n",
              "            await google.colab.kernel.invokeFunction('convertToInteractive',\n",
              "                                                     [key], {});\n",
              "          if (!dataTable) return;\n",
              "\n",
              "          const docLinkHtml = 'Like what you see? Visit the ' +\n",
              "            '<a target=\"_blank\" href=https://colab.research.google.com/notebooks/data_table.ipynb>data table notebook</a>'\n",
              "            + ' to learn more about interactive tables.';\n",
              "          element.innerHTML = '';\n",
              "          dataTable['output_type'] = 'display_data';\n",
              "          await google.colab.output.renderOutput(dataTable, element);\n",
              "          const docLink = document.createElement('div');\n",
              "          docLink.innerHTML = docLinkHtml;\n",
              "          element.appendChild(docLink);\n",
              "        }\n",
              "      </script>\n",
              "    </div>\n",
              "  </div>\n",
              "  "
            ]
          },
          "metadata": {},
          "execution_count": 32
        }
      ]
    },
    {
      "cell_type": "code",
      "source": [
        "df_corona['label']= 0\n",
        "df_culture['label']=0\n",
        "df_fake['label']=1\n",
        "\n",
        "df_1 = pd.concat([df_corona, df_culture])\n",
        "df = pd.concat([df_1,df_fake])\n",
        "df"
      ],
      "metadata": {
        "id": "FAXMfe-iijtl",
        "outputId": "1eeaea22-e089-449c-8ad6-4ca05d848ea4",
        "colab": {
          "base_uri": "https://localhost:8080/",
          "height": 1000
        }
      },
      "execution_count": 33,
      "outputs": [
        {
          "output_type": "execute_result",
          "data": {
            "text/plain": [
              "                                                      주소          일자     언론사  \\\n",
              "0      http://www.bigkinds.or.kr/news/newsDetailView....  2021-07-01  디지털타임스   \n",
              "1      http://www.bigkinds.or.kr/news/newsDetailView....  2021-07-01  디지털타임스   \n",
              "2      http://www.bigkinds.or.kr/news/newsDetailView....  2021-07-01  디지털타임스   \n",
              "3      http://www.bigkinds.or.kr/news/newsDetailView....  2021-07-01  디지털타임스   \n",
              "4      http://www.bigkinds.or.kr/news/newsDetailView....  2021-07-01  디지털타임스   \n",
              "...                                                  ...         ...     ...   \n",
              "15906  http://www.bigkinds.or.kr/news/newsDetailView....  2020-12-31    한국경제   \n",
              "15907  http://www.bigkinds.or.kr/news/newsDetailView....  2020-12-31    국민일보   \n",
              "15908  http://www.bigkinds.or.kr/news/newsDetailView....  2020-12-31    한국경제   \n",
              "15909  http://www.bigkinds.or.kr/news/newsDetailView....  2020-12-31    매일경제   \n",
              "15910  http://www.bigkinds.or.kr/news/newsDetailView....  2020-12-31     YTN   \n",
              "\n",
              "                       기고자                                              제목  \\\n",
              "0                      박재찬          폭염에 올 여름 전력수요 사상 최고치 전망...삐끗하면 `정전` 우려   \n",
              "1                       은진  상반기 수출 3000억달러 돌파…반도체·친환경 날개 달고 올해 `역대급` 실적 전망   \n",
              "2                      강민성         나라빚 1000조인데, 채무상환 고작 2조…전문가들 재정정상화 생색내기   \n",
              "3                      강민성                                  국세청 신임 차장에 임광현   \n",
              "4                      강민성                           국세청 차장에 임광현…서울청장에 임성빈   \n",
              "...                    ...                                             ...   \n",
              "15906                  김소연    [연예 마켓+] 유승준, 김형석과 손절 해명…'슈퍼챗'에 중간광고까지 수익 얼마   \n",
              "15907                  이난초                   말레이 ‘가짜 할랄 고기’ 스캔들…“고위공무원 연루”   \n",
              "15908                  NaN         '다름'을 끌어안는 흰 소의 해…국민 지키는 최고 백신은 '상생 협력'   \n",
              "15909  윤원섭,서동철,진영태,전경운,문재용                         Rebuild Korea…통합이 경쟁력이다   \n",
              "15910                  강정규              [팩트와이] 코로나19 덮친 2020년...'가짜뉴스'도 창궐   \n",
              "\n",
              "         통합 분류1         통합 분류2    통합 분류3   사건_사고 분류1   사건_사고 분류2   사건_사고 분류3  \\\n",
              "0         경제>자원          경제>유통    경제>자동차         NaN         NaN         NaN   \n",
              "1         경제>무역          경제>유통  경제>증권_증시         NaN         NaN         NaN   \n",
              "2       경제>경제일반            NaN       NaN         NaN         NaN         NaN   \n",
              "3         지역>경남          지역>대구     지역>대전         NaN         NaN         NaN   \n",
              "4         지역>경남          지역>대구     지역>대전         NaN         NaN         NaN   \n",
              "...         ...            ...       ...         ...         ...         ...   \n",
              "15906    사회>미디어            NaN       NaN  범죄>범죄일반>사기  사회>사회문제>학대  사회>사회갈등>시위   \n",
              "15907   문화>문화일반       국제>미국_북미    국제>중남미         NaN         NaN         NaN   \n",
              "15908       NaN            NaN       NaN  범죄>정치>뇌물수수  범죄>범죄일반>방화  사고>산업사고>화재   \n",
              "15909  정치>국회_정당         정치>청와대       NaN         NaN         NaN         NaN   \n",
              "15910     국제>중국  IT_과학>인터넷_SNS   사회>사회일반         NaN         NaN         NaN   \n",
              "\n",
              "                                                 개체명(인물)  \\\n",
              "0                                                    NaN   \n",
              "1                                                    문승욱   \n",
              "2                                          박영범, 신세돈, 홍남기   \n",
              "3                                     김재철, 김창기, 임광현, 임성빈   \n",
              "4                           김재철, 김창기, 임광현, 임광현…서울청장, 임성빈   \n",
              "...                                                  ...   \n",
              "15906                        김형석, 문준용, 유승준, 조국, 문재인, 추미애   \n",
              "15907                                                NaN   \n",
              "15908                                             문재인, 문   \n",
              "15909  강남규, 강동수, 강성진, 강주현, 강호갑, 권광석, 권태신, 길태기, 김기문, 김...   \n",
              "15910                                                NaN   \n",
              "\n",
              "                                                 개체명(지역)  \\\n",
              "0                                    경기, 고성하이화력, 부산, 태양광   \n",
              "1                           미국, 아세안, 인도, 일본, 중국, 중남미, 중동   \n",
              "2                                                    NaN   \n",
              "3                                 경북, 봉화, 장흥, 전남, 충남, 홍성   \n",
              "4                                 경북, 봉화, 장흥, 전남, 충남, 홍성   \n",
              "...                                                  ...   \n",
              "15906                                             미국, 원도   \n",
              "15907      캐나다, 스페인, 항만, 말레이시아, 브라질, 볼리비아, 진위, 말레이, 콜롬비아   \n",
              "15908                     신금, 화개, 서울, 민주, 부산, 소한, 당하, 남북   \n",
              "15909  Korea, 경영혁신중기협회장, 곽노성, 대한민국, 독일경제포럼, 부산, 스웨덴, ...   \n",
              "15910                         광화문, 서울, 서초구, 수산시장, 우한, 중국   \n",
              "\n",
              "                                               개체명(기업기관)  \\\n",
              "0                          국무총리, 산업부, 산업통상자원부, 전력거래소, 정부   \n",
              "1      CIS, EU, KOTRA, 무역협회, 산업부, 산업연구원, 산업통상자원부, 석유화...   \n",
              "2                      경제학과, 국가재정법, 기획재정부, 숙명여대, 정부, 한성대   \n",
              "3      국세청, 부산지방국세청, 부산청장, 서울지방국세청, 서울지방국세청장, 서울청, 중부...   \n",
              "4      국세청, 부산지방국세청, 부산청장, 서울지방국세청, 서울지방국세청장, 서울청, 중부...   \n",
              "...                                                  ...   \n",
              "15906    정부, 유튜브, 미군 장갑차, 법무부, 한국, 소셜블레이드, #모종화병무청장, MBC   \n",
              "15907  세관, 소고기, 뉴스트레이츠타임스, 이슬람, 정부, 종교부, 이슬람교도, 이슬람식,...   \n",
              "15908  노벨상, 보궐선거, 경찰, 학원사, 창성, 동양, 신금, 정부, 유튜브, 대한민국,...   \n",
              "15909  EY한영, KAIST, KB국민은행, KDI, OECD, 가톨릭대, 강원대, 건국대...   \n",
              "15910  8.15, YTN, 대한민국, 사랑제일교회, 수산시장, 신세기TV, 우한, 원지, ...   \n",
              "\n",
              "                                                     키워드  \\\n",
              "0      폭염,전망,여름,전력,수요,사상,최고,정전,올여름,폭염,영향,산업,생산,증가,전기수...   \n",
              "1      3000억,상반기,수출,달러,돌파,반도체,친환경,날개,역대급,실적,전망,수출,상반기...   \n",
              "2      나라빚,채무상환,2조,전문가들,재정정상화,정부,초과,세수,예상,세계,잉여금,기금재원...   \n",
              "3      차장,국세청,신임,임광현,임광현,서울지방,국세청장,차장,국세청,임명,서울,청장,자리...   \n",
              "4      국세청,차장,임광현,서울청장,임성빈,국세청,인사,고위,정기,임광현,서울지방,국세청장...   \n",
              "...                                                  ...   \n",
              "15906  유승준,김형석,손절,해명,슈퍼챗,중간광고,수익,얼마,유승준,미국명,스티븐유,작심,발...   \n",
              "15907  말레이,가짜,고기,스캔들,고위공무원,연루,말레이시아,40년,가짜,할랄,이슬람교도,무...   \n",
              "15908  국민,최고,백신,상생,협력,신축,辛丑,천간,天干,오행,색깔,흰색,표상,불교,수행,깨...   \n",
              "15909  Rebuild,Korea,통합,경쟁력,2021신년,기획,Rebuild,Korea,코...   \n",
              "15910  코로나19,2020년,가짜뉴스,창궐,앵커,2020년,코로나19,과언,바이러스,확산,...   \n",
              "\n",
              "                                                    특성추출  \\\n",
              "0      여름철,올여름,산업부,전력수요,gw,예비력,대책기간,상한전망,발전기,전력판매량,최고...   \n",
              "1                 반도체,상반기,수출액,친환경,3000억,원자재,기저효과,우리나라,경신   \n",
              "2      국가채무,2조,1000조,전문가,33조,채무상환,전문가들,본예산,한성대,홍남기,숙명...   \n",
              "3      국세청,서울지방국세청,임성빈,임광현,국세청장,부산,납세자,서울지방,서울지방국세청장,...   \n",
              "4      국세청,임성빈,서울지방국세청,임광현,국세청장,부산,납세자,서울청장,서울지방,서울지방...   \n",
              "...                                                  ...   \n",
              "15906  유승준,법무부,유튜브,슈퍼챗,문재인,추미애,그동안,실시간,1만,조회수,구독자,똥파리...   \n",
              "15907  할랄,무슬림,말레이시아,공무원들,공무원,취급점,수입고기,캐나다,볼리비아,콜롬비아,자...   \n",
              "15908  신축년,편인,천간,축토,코로나19,신금,반도체,임기응변,배은망덕,경금,규괘,천재지변...   \n",
              "15909  한국,연구원장,오피니언,응답자,위원장,연세대,서울대,코로나19,한반도선진화재단,진영...   \n",
              "15910  코로나19,유튜브,중국,감염자,우한,사람들,서울,수산시장,코로나,강정규,광화문집회,...   \n",
              "\n",
              "                                                      본문  \\\n",
              "0      올여름 폭염과 산업생산 증가 영향으로 전기수요가 역대 최고치를 기록할 것이라는 전망...   \n",
              "1      올해 상반기 우리나라 수출이 누적 기준 사상 처음으로 3000억달러를 돌파했다......   \n",
              "2      정부가 올해 초과 세수 예상분 31조5000억원에 세계 잉여금, 기금재원까지 끌어모...   \n",
              "3      임광현 서울지방국세청장이 차기 국세청 차장으로 임명됐다... 서울청장 자리에는 임성...   \n",
              "4      임광현 서울지방국세청장이 차기 국세청 차장으로 임명됐다... 서울청장 자리에는 임성...   \n",
              "...                                                  ...   \n",
              "15906  유승준(미국명 스티븐유)의 작심한 정부 비판 발언은 또 유튜브 수익으로 터질까......   \n",
              "15907  말레이시아에 40년 이상 가짜 할랄(이슬람교도인 무슬림이 먹고 쓸 수 있는 제품) ...   \n",
              "15908  2021년 신축(辛丑)년은 흰 소의 해다... 천간(天干)인 신(辛)이 오행으로 금...   \n",
              "15909  ◆ 2021신년기획 Rebuild Korea ..(上) ..◆ .. 2020년 코로...   \n",
              "15910  [앵커] ..2020년은 코로나19의 해였다고 말해도 과언이 아닐 겁니다. .. ....   \n",
              "\n",
              "                                                    원본주소  label  \n",
              "0      http://www.dt.co.kr/contents.html?article_no=2...      0  \n",
              "1      http://www.dt.co.kr/contents.html?article_no=2...      0  \n",
              "2      http://www.dt.co.kr/contents.html?article_no=2...      0  \n",
              "3      http://www.dt.co.kr/contents.html?article_no=2...      0  \n",
              "4      http://www.dt.co.kr/contents.html?article_no=2...      0  \n",
              "...                                                  ...    ...  \n",
              "15906  https://www.hankyung.com/life/article/20201231...      1  \n",
              "15907  http://news.kmib.co.kr/article/view.asp?arcid=...      1  \n",
              "15908  https://www.hankyung.com/life/article/20201231...      1  \n",
              "15909  http://news.mk.co.kr/newsRead.php?no=1339968&y...      1  \n",
              "15910  https://www.ytn.co.kr/_ln/0103_202012310512519469      1  \n",
              "\n",
              "[163058 rows x 19 columns]"
            ],
            "text/html": [
              "\n",
              "  <div id=\"df-a5710467-5715-4262-af58-60ac230d0412\">\n",
              "    <div class=\"colab-df-container\">\n",
              "      <div>\n",
              "<style scoped>\n",
              "    .dataframe tbody tr th:only-of-type {\n",
              "        vertical-align: middle;\n",
              "    }\n",
              "\n",
              "    .dataframe tbody tr th {\n",
              "        vertical-align: top;\n",
              "    }\n",
              "\n",
              "    .dataframe thead th {\n",
              "        text-align: right;\n",
              "    }\n",
              "</style>\n",
              "<table border=\"1\" class=\"dataframe\">\n",
              "  <thead>\n",
              "    <tr style=\"text-align: right;\">\n",
              "      <th></th>\n",
              "      <th>주소</th>\n",
              "      <th>일자</th>\n",
              "      <th>언론사</th>\n",
              "      <th>기고자</th>\n",
              "      <th>제목</th>\n",
              "      <th>통합 분류1</th>\n",
              "      <th>통합 분류2</th>\n",
              "      <th>통합 분류3</th>\n",
              "      <th>사건_사고 분류1</th>\n",
              "      <th>사건_사고 분류2</th>\n",
              "      <th>사건_사고 분류3</th>\n",
              "      <th>개체명(인물)</th>\n",
              "      <th>개체명(지역)</th>\n",
              "      <th>개체명(기업기관)</th>\n",
              "      <th>키워드</th>\n",
              "      <th>특성추출</th>\n",
              "      <th>본문</th>\n",
              "      <th>원본주소</th>\n",
              "      <th>label</th>\n",
              "    </tr>\n",
              "  </thead>\n",
              "  <tbody>\n",
              "    <tr>\n",
              "      <th>0</th>\n",
              "      <td>http://www.bigkinds.or.kr/news/newsDetailView....</td>\n",
              "      <td>2021-07-01</td>\n",
              "      <td>디지털타임스</td>\n",
              "      <td>박재찬</td>\n",
              "      <td>폭염에 올 여름 전력수요 사상 최고치 전망...삐끗하면 `정전` 우려</td>\n",
              "      <td>경제&gt;자원</td>\n",
              "      <td>경제&gt;유통</td>\n",
              "      <td>경제&gt;자동차</td>\n",
              "      <td>NaN</td>\n",
              "      <td>NaN</td>\n",
              "      <td>NaN</td>\n",
              "      <td>NaN</td>\n",
              "      <td>경기, 고성하이화력, 부산, 태양광</td>\n",
              "      <td>국무총리, 산업부, 산업통상자원부, 전력거래소, 정부</td>\n",
              "      <td>폭염,전망,여름,전력,수요,사상,최고,정전,올여름,폭염,영향,산업,생산,증가,전기수...</td>\n",
              "      <td>여름철,올여름,산업부,전력수요,gw,예비력,대책기간,상한전망,발전기,전력판매량,최고...</td>\n",
              "      <td>올여름 폭염과 산업생산 증가 영향으로 전기수요가 역대 최고치를 기록할 것이라는 전망...</td>\n",
              "      <td>http://www.dt.co.kr/contents.html?article_no=2...</td>\n",
              "      <td>0</td>\n",
              "    </tr>\n",
              "    <tr>\n",
              "      <th>1</th>\n",
              "      <td>http://www.bigkinds.or.kr/news/newsDetailView....</td>\n",
              "      <td>2021-07-01</td>\n",
              "      <td>디지털타임스</td>\n",
              "      <td>은진</td>\n",
              "      <td>상반기 수출 3000억달러 돌파…반도체·친환경 날개 달고 올해 `역대급` 실적 전망</td>\n",
              "      <td>경제&gt;무역</td>\n",
              "      <td>경제&gt;유통</td>\n",
              "      <td>경제&gt;증권_증시</td>\n",
              "      <td>NaN</td>\n",
              "      <td>NaN</td>\n",
              "      <td>NaN</td>\n",
              "      <td>문승욱</td>\n",
              "      <td>미국, 아세안, 인도, 일본, 중국, 중남미, 중동</td>\n",
              "      <td>CIS, EU, KOTRA, 무역협회, 산업부, 산업연구원, 산업통상자원부, 석유화...</td>\n",
              "      <td>3000억,상반기,수출,달러,돌파,반도체,친환경,날개,역대급,실적,전망,수출,상반기...</td>\n",
              "      <td>반도체,상반기,수출액,친환경,3000억,원자재,기저효과,우리나라,경신</td>\n",
              "      <td>올해 상반기 우리나라 수출이 누적 기준 사상 처음으로 3000억달러를 돌파했다......</td>\n",
              "      <td>http://www.dt.co.kr/contents.html?article_no=2...</td>\n",
              "      <td>0</td>\n",
              "    </tr>\n",
              "    <tr>\n",
              "      <th>2</th>\n",
              "      <td>http://www.bigkinds.or.kr/news/newsDetailView....</td>\n",
              "      <td>2021-07-01</td>\n",
              "      <td>디지털타임스</td>\n",
              "      <td>강민성</td>\n",
              "      <td>나라빚 1000조인데, 채무상환 고작 2조…전문가들 재정정상화 생색내기</td>\n",
              "      <td>경제&gt;경제일반</td>\n",
              "      <td>NaN</td>\n",
              "      <td>NaN</td>\n",
              "      <td>NaN</td>\n",
              "      <td>NaN</td>\n",
              "      <td>NaN</td>\n",
              "      <td>박영범, 신세돈, 홍남기</td>\n",
              "      <td>NaN</td>\n",
              "      <td>경제학과, 국가재정법, 기획재정부, 숙명여대, 정부, 한성대</td>\n",
              "      <td>나라빚,채무상환,2조,전문가들,재정정상화,정부,초과,세수,예상,세계,잉여금,기금재원...</td>\n",
              "      <td>국가채무,2조,1000조,전문가,33조,채무상환,전문가들,본예산,한성대,홍남기,숙명...</td>\n",
              "      <td>정부가 올해 초과 세수 예상분 31조5000억원에 세계 잉여금, 기금재원까지 끌어모...</td>\n",
              "      <td>http://www.dt.co.kr/contents.html?article_no=2...</td>\n",
              "      <td>0</td>\n",
              "    </tr>\n",
              "    <tr>\n",
              "      <th>3</th>\n",
              "      <td>http://www.bigkinds.or.kr/news/newsDetailView....</td>\n",
              "      <td>2021-07-01</td>\n",
              "      <td>디지털타임스</td>\n",
              "      <td>강민성</td>\n",
              "      <td>국세청 신임 차장에 임광현</td>\n",
              "      <td>지역&gt;경남</td>\n",
              "      <td>지역&gt;대구</td>\n",
              "      <td>지역&gt;대전</td>\n",
              "      <td>NaN</td>\n",
              "      <td>NaN</td>\n",
              "      <td>NaN</td>\n",
              "      <td>김재철, 김창기, 임광현, 임성빈</td>\n",
              "      <td>경북, 봉화, 장흥, 전남, 충남, 홍성</td>\n",
              "      <td>국세청, 부산지방국세청, 부산청장, 서울지방국세청, 서울지방국세청장, 서울청, 중부...</td>\n",
              "      <td>차장,국세청,신임,임광현,임광현,서울지방,국세청장,차장,국세청,임명,서울,청장,자리...</td>\n",
              "      <td>국세청,서울지방국세청,임성빈,임광현,국세청장,부산,납세자,서울지방,서울지방국세청장,...</td>\n",
              "      <td>임광현 서울지방국세청장이 차기 국세청 차장으로 임명됐다... 서울청장 자리에는 임성...</td>\n",
              "      <td>http://www.dt.co.kr/contents.html?article_no=2...</td>\n",
              "      <td>0</td>\n",
              "    </tr>\n",
              "    <tr>\n",
              "      <th>4</th>\n",
              "      <td>http://www.bigkinds.or.kr/news/newsDetailView....</td>\n",
              "      <td>2021-07-01</td>\n",
              "      <td>디지털타임스</td>\n",
              "      <td>강민성</td>\n",
              "      <td>국세청 차장에 임광현…서울청장에 임성빈</td>\n",
              "      <td>지역&gt;경남</td>\n",
              "      <td>지역&gt;대구</td>\n",
              "      <td>지역&gt;대전</td>\n",
              "      <td>NaN</td>\n",
              "      <td>NaN</td>\n",
              "      <td>NaN</td>\n",
              "      <td>김재철, 김창기, 임광현, 임광현…서울청장, 임성빈</td>\n",
              "      <td>경북, 봉화, 장흥, 전남, 충남, 홍성</td>\n",
              "      <td>국세청, 부산지방국세청, 부산청장, 서울지방국세청, 서울지방국세청장, 서울청, 중부...</td>\n",
              "      <td>국세청,차장,임광현,서울청장,임성빈,국세청,인사,고위,정기,임광현,서울지방,국세청장...</td>\n",
              "      <td>국세청,임성빈,서울지방국세청,임광현,국세청장,부산,납세자,서울청장,서울지방,서울지방...</td>\n",
              "      <td>임광현 서울지방국세청장이 차기 국세청 차장으로 임명됐다... 서울청장 자리에는 임성...</td>\n",
              "      <td>http://www.dt.co.kr/contents.html?article_no=2...</td>\n",
              "      <td>0</td>\n",
              "    </tr>\n",
              "    <tr>\n",
              "      <th>...</th>\n",
              "      <td>...</td>\n",
              "      <td>...</td>\n",
              "      <td>...</td>\n",
              "      <td>...</td>\n",
              "      <td>...</td>\n",
              "      <td>...</td>\n",
              "      <td>...</td>\n",
              "      <td>...</td>\n",
              "      <td>...</td>\n",
              "      <td>...</td>\n",
              "      <td>...</td>\n",
              "      <td>...</td>\n",
              "      <td>...</td>\n",
              "      <td>...</td>\n",
              "      <td>...</td>\n",
              "      <td>...</td>\n",
              "      <td>...</td>\n",
              "      <td>...</td>\n",
              "      <td>...</td>\n",
              "    </tr>\n",
              "    <tr>\n",
              "      <th>15906</th>\n",
              "      <td>http://www.bigkinds.or.kr/news/newsDetailView....</td>\n",
              "      <td>2020-12-31</td>\n",
              "      <td>한국경제</td>\n",
              "      <td>김소연</td>\n",
              "      <td>[연예 마켓+] 유승준, 김형석과 손절 해명…'슈퍼챗'에 중간광고까지 수익 얼마</td>\n",
              "      <td>사회&gt;미디어</td>\n",
              "      <td>NaN</td>\n",
              "      <td>NaN</td>\n",
              "      <td>범죄&gt;범죄일반&gt;사기</td>\n",
              "      <td>사회&gt;사회문제&gt;학대</td>\n",
              "      <td>사회&gt;사회갈등&gt;시위</td>\n",
              "      <td>김형석, 문준용, 유승준, 조국, 문재인, 추미애</td>\n",
              "      <td>미국, 원도</td>\n",
              "      <td>정부, 유튜브, 미군 장갑차, 법무부, 한국, 소셜블레이드, #모종화병무청장, MBC</td>\n",
              "      <td>유승준,김형석,손절,해명,슈퍼챗,중간광고,수익,얼마,유승준,미국명,스티븐유,작심,발...</td>\n",
              "      <td>유승준,법무부,유튜브,슈퍼챗,문재인,추미애,그동안,실시간,1만,조회수,구독자,똥파리...</td>\n",
              "      <td>유승준(미국명 스티븐유)의 작심한 정부 비판 발언은 또 유튜브 수익으로 터질까......</td>\n",
              "      <td>https://www.hankyung.com/life/article/20201231...</td>\n",
              "      <td>1</td>\n",
              "    </tr>\n",
              "    <tr>\n",
              "      <th>15907</th>\n",
              "      <td>http://www.bigkinds.or.kr/news/newsDetailView....</td>\n",
              "      <td>2020-12-31</td>\n",
              "      <td>국민일보</td>\n",
              "      <td>이난초</td>\n",
              "      <td>말레이 ‘가짜 할랄 고기’ 스캔들…“고위공무원 연루”</td>\n",
              "      <td>문화&gt;문화일반</td>\n",
              "      <td>국제&gt;미국_북미</td>\n",
              "      <td>국제&gt;중남미</td>\n",
              "      <td>NaN</td>\n",
              "      <td>NaN</td>\n",
              "      <td>NaN</td>\n",
              "      <td>NaN</td>\n",
              "      <td>캐나다, 스페인, 항만, 말레이시아, 브라질, 볼리비아, 진위, 말레이, 콜롬비아</td>\n",
              "      <td>세관, 소고기, 뉴스트레이츠타임스, 이슬람, 정부, 종교부, 이슬람교도, 이슬람식,...</td>\n",
              "      <td>말레이,가짜,고기,스캔들,고위공무원,연루,말레이시아,40년,가짜,할랄,이슬람교도,무...</td>\n",
              "      <td>할랄,무슬림,말레이시아,공무원들,공무원,취급점,수입고기,캐나다,볼리비아,콜롬비아,자...</td>\n",
              "      <td>말레이시아에 40년 이상 가짜 할랄(이슬람교도인 무슬림이 먹고 쓸 수 있는 제품) ...</td>\n",
              "      <td>http://news.kmib.co.kr/article/view.asp?arcid=...</td>\n",
              "      <td>1</td>\n",
              "    </tr>\n",
              "    <tr>\n",
              "      <th>15908</th>\n",
              "      <td>http://www.bigkinds.or.kr/news/newsDetailView....</td>\n",
              "      <td>2020-12-31</td>\n",
              "      <td>한국경제</td>\n",
              "      <td>NaN</td>\n",
              "      <td>'다름'을 끌어안는 흰 소의 해…국민 지키는 최고 백신은 '상생 협력'</td>\n",
              "      <td>NaN</td>\n",
              "      <td>NaN</td>\n",
              "      <td>NaN</td>\n",
              "      <td>범죄&gt;정치&gt;뇌물수수</td>\n",
              "      <td>범죄&gt;범죄일반&gt;방화</td>\n",
              "      <td>사고&gt;산업사고&gt;화재</td>\n",
              "      <td>문재인, 문</td>\n",
              "      <td>신금, 화개, 서울, 민주, 부산, 소한, 당하, 남북</td>\n",
              "      <td>노벨상, 보궐선거, 경찰, 학원사, 창성, 동양, 신금, 정부, 유튜브, 대한민국,...</td>\n",
              "      <td>국민,최고,백신,상생,협력,신축,辛丑,천간,天干,오행,색깔,흰색,표상,불교,수행,깨...</td>\n",
              "      <td>신축년,편인,천간,축토,코로나19,신금,반도체,임기응변,배은망덕,경금,규괘,천재지변...</td>\n",
              "      <td>2021년 신축(辛丑)년은 흰 소의 해다... 천간(天干)인 신(辛)이 오행으로 금...</td>\n",
              "      <td>https://www.hankyung.com/life/article/20201231...</td>\n",
              "      <td>1</td>\n",
              "    </tr>\n",
              "    <tr>\n",
              "      <th>15909</th>\n",
              "      <td>http://www.bigkinds.or.kr/news/newsDetailView....</td>\n",
              "      <td>2020-12-31</td>\n",
              "      <td>매일경제</td>\n",
              "      <td>윤원섭,서동철,진영태,전경운,문재용</td>\n",
              "      <td>Rebuild Korea…통합이 경쟁력이다</td>\n",
              "      <td>정치&gt;국회_정당</td>\n",
              "      <td>정치&gt;청와대</td>\n",
              "      <td>NaN</td>\n",
              "      <td>NaN</td>\n",
              "      <td>NaN</td>\n",
              "      <td>NaN</td>\n",
              "      <td>강남규, 강동수, 강성진, 강주현, 강호갑, 권광석, 권태신, 길태기, 김기문, 김...</td>\n",
              "      <td>Korea, 경영혁신중기협회장, 곽노성, 대한민국, 독일경제포럼, 부산, 스웨덴, ...</td>\n",
              "      <td>EY한영, KAIST, KB국민은행, KDI, OECD, 가톨릭대, 강원대, 건국대...</td>\n",
              "      <td>Rebuild,Korea,통합,경쟁력,2021신년,기획,Rebuild,Korea,코...</td>\n",
              "      <td>한국,연구원장,오피니언,응답자,위원장,연세대,서울대,코로나19,한반도선진화재단,진영...</td>\n",
              "      <td>◆ 2021신년기획 Rebuild Korea ..(上) ..◆ .. 2020년 코로...</td>\n",
              "      <td>http://news.mk.co.kr/newsRead.php?no=1339968&amp;y...</td>\n",
              "      <td>1</td>\n",
              "    </tr>\n",
              "    <tr>\n",
              "      <th>15910</th>\n",
              "      <td>http://www.bigkinds.or.kr/news/newsDetailView....</td>\n",
              "      <td>2020-12-31</td>\n",
              "      <td>YTN</td>\n",
              "      <td>강정규</td>\n",
              "      <td>[팩트와이] 코로나19 덮친 2020년...'가짜뉴스'도 창궐</td>\n",
              "      <td>국제&gt;중국</td>\n",
              "      <td>IT_과학&gt;인터넷_SNS</td>\n",
              "      <td>사회&gt;사회일반</td>\n",
              "      <td>NaN</td>\n",
              "      <td>NaN</td>\n",
              "      <td>NaN</td>\n",
              "      <td>NaN</td>\n",
              "      <td>광화문, 서울, 서초구, 수산시장, 우한, 중국</td>\n",
              "      <td>8.15, YTN, 대한민국, 사랑제일교회, 수산시장, 신세기TV, 우한, 원지, ...</td>\n",
              "      <td>코로나19,2020년,가짜뉴스,창궐,앵커,2020년,코로나19,과언,바이러스,확산,...</td>\n",
              "      <td>코로나19,유튜브,중국,감염자,우한,사람들,서울,수산시장,코로나,강정규,광화문집회,...</td>\n",
              "      <td>[앵커] ..2020년은 코로나19의 해였다고 말해도 과언이 아닐 겁니다. .. ....</td>\n",
              "      <td>https://www.ytn.co.kr/_ln/0103_202012310512519469</td>\n",
              "      <td>1</td>\n",
              "    </tr>\n",
              "  </tbody>\n",
              "</table>\n",
              "<p>163058 rows × 19 columns</p>\n",
              "</div>\n",
              "      <button class=\"colab-df-convert\" onclick=\"convertToInteractive('df-a5710467-5715-4262-af58-60ac230d0412')\"\n",
              "              title=\"Convert this dataframe to an interactive table.\"\n",
              "              style=\"display:none;\">\n",
              "        \n",
              "  <svg xmlns=\"http://www.w3.org/2000/svg\" height=\"24px\"viewBox=\"0 0 24 24\"\n",
              "       width=\"24px\">\n",
              "    <path d=\"M0 0h24v24H0V0z\" fill=\"none\"/>\n",
              "    <path d=\"M18.56 5.44l.94 2.06.94-2.06 2.06-.94-2.06-.94-.94-2.06-.94 2.06-2.06.94zm-11 1L8.5 8.5l.94-2.06 2.06-.94-2.06-.94L8.5 2.5l-.94 2.06-2.06.94zm10 10l.94 2.06.94-2.06 2.06-.94-2.06-.94-.94-2.06-.94 2.06-2.06.94z\"/><path d=\"M17.41 7.96l-1.37-1.37c-.4-.4-.92-.59-1.43-.59-.52 0-1.04.2-1.43.59L10.3 9.45l-7.72 7.72c-.78.78-.78 2.05 0 2.83L4 21.41c.39.39.9.59 1.41.59.51 0 1.02-.2 1.41-.59l7.78-7.78 2.81-2.81c.8-.78.8-2.07 0-2.86zM5.41 20L4 18.59l7.72-7.72 1.47 1.35L5.41 20z\"/>\n",
              "  </svg>\n",
              "      </button>\n",
              "      \n",
              "  <style>\n",
              "    .colab-df-container {\n",
              "      display:flex;\n",
              "      flex-wrap:wrap;\n",
              "      gap: 12px;\n",
              "    }\n",
              "\n",
              "    .colab-df-convert {\n",
              "      background-color: #E8F0FE;\n",
              "      border: none;\n",
              "      border-radius: 50%;\n",
              "      cursor: pointer;\n",
              "      display: none;\n",
              "      fill: #1967D2;\n",
              "      height: 32px;\n",
              "      padding: 0 0 0 0;\n",
              "      width: 32px;\n",
              "    }\n",
              "\n",
              "    .colab-df-convert:hover {\n",
              "      background-color: #E2EBFA;\n",
              "      box-shadow: 0px 1px 2px rgba(60, 64, 67, 0.3), 0px 1px 3px 1px rgba(60, 64, 67, 0.15);\n",
              "      fill: #174EA6;\n",
              "    }\n",
              "\n",
              "    [theme=dark] .colab-df-convert {\n",
              "      background-color: #3B4455;\n",
              "      fill: #D2E3FC;\n",
              "    }\n",
              "\n",
              "    [theme=dark] .colab-df-convert:hover {\n",
              "      background-color: #434B5C;\n",
              "      box-shadow: 0px 1px 3px 1px rgba(0, 0, 0, 0.15);\n",
              "      filter: drop-shadow(0px 1px 2px rgba(0, 0, 0, 0.3));\n",
              "      fill: #FFFFFF;\n",
              "    }\n",
              "  </style>\n",
              "\n",
              "      <script>\n",
              "        const buttonEl =\n",
              "          document.querySelector('#df-a5710467-5715-4262-af58-60ac230d0412 button.colab-df-convert');\n",
              "        buttonEl.style.display =\n",
              "          google.colab.kernel.accessAllowed ? 'block' : 'none';\n",
              "\n",
              "        async function convertToInteractive(key) {\n",
              "          const element = document.querySelector('#df-a5710467-5715-4262-af58-60ac230d0412');\n",
              "          const dataTable =\n",
              "            await google.colab.kernel.invokeFunction('convertToInteractive',\n",
              "                                                     [key], {});\n",
              "          if (!dataTable) return;\n",
              "\n",
              "          const docLinkHtml = 'Like what you see? Visit the ' +\n",
              "            '<a target=\"_blank\" href=https://colab.research.google.com/notebooks/data_table.ipynb>data table notebook</a>'\n",
              "            + ' to learn more about interactive tables.';\n",
              "          element.innerHTML = '';\n",
              "          dataTable['output_type'] = 'display_data';\n",
              "          await google.colab.output.renderOutput(dataTable, element);\n",
              "          const docLink = document.createElement('div');\n",
              "          docLink.innerHTML = docLinkHtml;\n",
              "          element.appendChild(docLink);\n",
              "        }\n",
              "      </script>\n",
              "    </div>\n",
              "  </div>\n",
              "  "
            ]
          },
          "metadata": {},
          "execution_count": 33
        }
      ]
    },
    {
      "cell_type": "code",
      "source": [
        "df_test = df[['제목','본문', 'label']]"
      ],
      "metadata": {
        "id": "ABnWw1cQQztx"
      },
      "execution_count": 34,
      "outputs": []
    },
    {
      "cell_type": "markdown",
      "source": [
        "필요한 데이터만 뽑아내기 및 불용어 처리는 뒷 파트에서 하겠습니다.\n",
        "\n"
      ],
      "metadata": {
        "id": "Ax9HaeKsd7Y1"
      }
    },
    {
      "cell_type": "code",
      "source": [],
      "metadata": {
        "id": "gkwvI5vVQtn3"
      },
      "execution_count": null,
      "outputs": []
    },
    {
      "cell_type": "markdown",
      "source": [
        "데이터 TF_IDF 사용하여 유사도 확인"
      ],
      "metadata": {
        "id": "y-wMs6NOeB26"
      }
    },
    {
      "cell_type": "code",
      "source": [
        "import pathlib\n",
        "import random\n",
        "import string\n",
        "import re\n",
        "import numpy as np\n",
        "import tensorflow as tf\n",
        "from tensorflow import keras\n",
        "from tensorflow.keras import layers\n",
        "from tensorflow.keras.layers.experimental.preprocessing import TextVectorization\n",
        "import spacy\n",
        "from spacy.tokenizer import Tokenizer\n",
        "from tensorflow.keras.preprocessing.text import Tokenizer\n",
        "\n",
        "from sklearn.feature_extraction.text import CountVectorizer, TfidfVectorizer\n",
        "from sklearn.metrics.pairwise import cosine_similarity\n",
        "from sklearn.neighbors import NearestNeighbors"
      ],
      "metadata": {
        "id": "rYt3wNKteF1v"
      },
      "execution_count": 70,
      "outputs": []
    },
    {
      "cell_type": "markdown",
      "source": [
        "결측치 제거"
      ],
      "metadata": {
        "id": "OwV1ofTDUO-S"
      }
    },
    {
      "cell_type": "code",
      "source": [
        "df_test = df_test.dropna()"
      ],
      "metadata": {
        "id": "e9suC086T-nL"
      },
      "execution_count": 14,
      "outputs": []
    },
    {
      "cell_type": "markdown",
      "source": [
        "# 거짓 뉴스와 진짜 뉴스 기사의 분석"
      ],
      "metadata": {
        "id": "aRYq5OCoVqo6"
      }
    },
    {
      "cell_type": "code",
      "source": [
        "import pandas as pd\n",
        "import numpy as np\n",
        "import matplotlib.pyplot as plt\n",
        "import urllib.request\n",
        "from collections import Counter\n",
        "from konlpy.tag import Mecab\n",
        "from sklearn.model_selection import train_test_split\n",
        "from tensorflow.keras.preprocessing.text import Tokenizer\n",
        "from tensorflow.keras.preprocessing.sequence import pad_sequences"
      ],
      "metadata": {
        "id": "eYa3sx8KV2DI"
      },
      "execution_count": 35,
      "outputs": []
    },
    {
      "cell_type": "code",
      "source": [
        "df_test['본문'].nunique(), df_test['label'].nunique()"
      ],
      "metadata": {
        "id": "f4SIGzZrbCb5",
        "outputId": "e18ab514-e4c5-46f5-c610-3c544ba812dc",
        "colab": {
          "base_uri": "https://localhost:8080/"
        }
      },
      "execution_count": 36,
      "outputs": [
        {
          "output_type": "execute_result",
          "data": {
            "text/plain": [
              "(156470, 2)"
            ]
          },
          "metadata": {},
          "execution_count": 36
        }
      ]
    },
    {
      "cell_type": "code",
      "source": [
        "train_data, test_data = train_test_split(df_test, test_size = 0.25, random_state = 42)\n",
        "print('훈련용 리뷰의 개수 :', len(train_data))\n",
        "print('테스트용 리뷰의 개수 :', len(test_data))"
      ],
      "metadata": {
        "id": "ZpQimmsZbZB4",
        "outputId": "42f38fe9-da10-49c0-ca8c-c4d9025c8805",
        "colab": {
          "base_uri": "https://localhost:8080/"
        }
      },
      "execution_count": 37,
      "outputs": [
        {
          "output_type": "stream",
          "name": "stdout",
          "text": [
            "훈련용 리뷰의 개수 : 122293\n",
            "테스트용 리뷰의 개수 : 40765\n"
          ]
        }
      ]
    },
    {
      "cell_type": "code",
      "source": [
        "train_data['label'].value_counts().plot(kind = 'bar')"
      ],
      "metadata": {
        "id": "zThLoszNbgB4",
        "outputId": "f81ce720-b89c-4c8b-f24c-ae01356268ed",
        "colab": {
          "base_uri": "https://localhost:8080/",
          "height": 280
        }
      },
      "execution_count": 38,
      "outputs": [
        {
          "output_type": "execute_result",
          "data": {
            "text/plain": [
              "<matplotlib.axes._subplots.AxesSubplot at 0x7fd29c6b0250>"
            ]
          },
          "metadata": {},
          "execution_count": 38
        },
        {
          "output_type": "display_data",
          "data": {
            "text/plain": [
              "<Figure size 432x288 with 1 Axes>"
            ],
            "image/png": "[encoded data removed]"
          },
          "metadata": {
            "needs_background": "light"
          }
        }
      ]
    },
    {
      "cell_type": "code",
      "source": [
        "train_data['본문'] = train_data['본문'].str.replace(\"[^ ㄱ-ㅣ가-힣A-Za-z]\",\"\", )\n",
        "train_data['본문'].replace('', np.nan, inplace=True)\n",
        "print(train_data.isnull().sum())\n",
        "train_data =train_data.dropna(how='any')\n",
        "train_data['본문']= train_data['본문'].astype(str)"
      ],
      "metadata": {
        "id": "DvdS2Hbhb5vD",
        "outputId": "1179f990-06ad-46cc-827b-1ea5c7f8ce3a",
        "colab": {
          "base_uri": "https://localhost:8080/"
        }
      },
      "execution_count": 49,
      "outputs": [
        {
          "output_type": "stream",
          "name": "stdout",
          "text": [
            "제목       71\n",
            "본문       82\n",
            "label     0\n",
            "dtype: int64\n"
          ]
        },
        {
          "output_type": "stream",
          "name": "stderr",
          "text": [
            "/usr/local/lib/python3.7/dist-packages/ipykernel_launcher.py:1: FutureWarning: The default value of regex will change from True to False in a future version.\n",
            "  \"\"\"Entry point for launching an IPython kernel.\n"
          ]
        }
      ]
    },
    {
      "cell_type": "code",
      "source": [
        "train_data['제목'] = train_data['제목'].str.replace(\"[^ ㄱ-ㅣ가-힣A-Za-z]\",\"\", )\n",
        "train_data['제목'].replace('', np.nan, inplace=True)\n",
        "print(train_data.isnull().sum())\n",
        "train_data =train_data.dropna(how='any')\n",
        "train_data['제목']= train_data['제목'].astype(str)\n",
        "\n",
        "test_data['제목'] = test_data['제목'].str.replace(\"[^ ㄱ-ㅣ가-힣A-Za-z]\",\"\", )\n",
        "test_data['제목'].replace('', np.nan, inplace=True)\n",
        "print(test_data.isnull().sum())\n",
        "test_data =test_data.dropna(how='any')\n",
        "test_data['제목']= test_data['제목'].astype(str)"
      ],
      "metadata": {
        "id": "9CszUSBBWFSf",
        "outputId": "ad31a826-ead0-4fb6-baa7-207ab25a3b6b",
        "colab": {
          "base_uri": "https://localhost:8080/"
        }
      },
      "execution_count": 57,
      "outputs": [
        {
          "output_type": "stream",
          "name": "stderr",
          "text": [
            "/usr/local/lib/python3.7/dist-packages/ipykernel_launcher.py:1: FutureWarning: The default value of regex will change from True to False in a future version.\n",
            "  \"\"\"Entry point for launching an IPython kernel.\n",
            "/usr/local/lib/python3.7/dist-packages/ipykernel_launcher.py:7: FutureWarning: The default value of regex will change from True to False in a future version.\n",
            "  import sys\n"
          ]
        },
        {
          "output_type": "stream",
          "name": "stdout",
          "text": [
            "제목       0\n",
            "본문       0\n",
            "label    0\n",
            "dtype: int64\n",
            "제목       182\n",
            "본문        18\n",
            "label      0\n",
            "dtype: int64\n"
          ]
        },
        {
          "output_type": "stream",
          "name": "stderr",
          "text": [
            "/usr/local/lib/python3.7/dist-packages/ipykernel_launcher.py:11: SettingWithCopyWarning: \n",
            "A value is trying to be set on a copy of a slice from a DataFrame.\n",
            "Try using .loc[row_indexer,col_indexer] = value instead\n",
            "\n",
            "See the caveats in the documentation: https://pandas.pydata.org/pandas-docs/stable/user_guide/indexing.html#returning-a-view-versus-a-copy\n",
            "  # This is added back by InteractiveShellApp.init_path()\n"
          ]
        }
      ]
    },
    {
      "cell_type": "code",
      "source": [],
      "metadata": {
        "id": "r6ig8mSmWNCL"
      },
      "execution_count": null,
      "outputs": []
    },
    {
      "cell_type": "markdown",
      "source": [
        "불용어 정의"
      ],
      "metadata": {
        "id": "yzbeUdMQcJBT"
      }
    },
    {
      "cell_type": "markdown",
      "source": [
        "불용어 목록은 한 사이트를 참고하여 들고왔습니다. "
      ],
      "metadata": {
        "id": "XKGlnhNbWGqw"
      }
    },
    {
      "cell_type": "code",
      "source": [
        "def get_stopwords():\n",
        "    stopwords = list()\n",
        "    \n",
        "    f = open('/content/drive/MyDrive/Section4 Project/stopwords.txt', 'r', encoding='utf-8')\n",
        "    \n",
        "    while True:\n",
        "        line = f.readline()\n",
        "        if not line: break\n",
        "        stopwords.append(line.strip())\n",
        "        \n",
        "    return stopwords"
      ],
      "metadata": {
        "id": "3ryCvf3hcIep"
      },
      "execution_count": 54,
      "outputs": []
    },
    {
      "cell_type": "code",
      "source": [
        "\n",
        "\n",
        "def okt_tokenizer(text):\n",
        "    okt = Okt()\n",
        "    text = re.sub(r'[^ ㄱ-ㅣ가-힣A-Za-z]', '', text) # 특수기호 제거\n",
        "    stopwords = get_stopwords() # 불용어\n",
        "    \n",
        "    return [token for token in okt.nouns(text)\n",
        "            if len(token) > 1 and token not in stopwords]"
      ],
      "metadata": {
        "id": "se3Dfeh1d_Vp"
      },
      "execution_count": 55,
      "outputs": []
    },
    {
      "cell_type": "markdown",
      "source": [],
      "metadata": {
        "id": "rCo78LQoXhq7"
      }
    },
    {
      "cell_type": "code",
      "source": [
        "stopwords = get_stopwords()\n",
        "hannanum = Hannanum()\n",
        "train_data['tokenized'] = train_data['본문'].apply(okt.morphs)\n",
        "train_data['tokenized'] = train_data['tokenized'].apply(lambda x: [item for item in x if item not in stopwords])\n",
        "test_data['tokenized'] = test_data['본문'].apply(okt.morphs)\n",
        "test_data['tokenized'] = test_data['tokenized'].apply(lambda x: [item for item in x if item not in stopwords])"
      ],
      "metadata": {
        "id": "kJHm_vSYcP3q"
      },
      "execution_count": null,
      "outputs": []
    },
    {
      "cell_type": "code",
      "source": [
        "stopwords = get_stopwords()\n",
        "hannanum = Hannanum()\n",
        "train_data['tokenized'] = train_data['제목'].apply(okt.morphs)\n",
        "train_data['tokenized'] = train_data['tokenized'].apply(lambda x: [item for item in x if item not in stopwords])\n",
        "test_data['tokenized'] = test_data['제목'].apply(okt.morphs)\n",
        "test_data['tokenized'] = test_data['tokenized'].apply(lambda x: [item for item in x if item not in stopwords])"
      ],
      "metadata": {
        "id": "RyodkSp2Wesv"
      },
      "execution_count": 58,
      "outputs": []
    },
    {
      "cell_type": "code",
      "source": [
        "true_words = np.hstack(train_data[train_data.label == 0]['tokenized'].values)\n",
        "fake_words = np.hstack(train_data[train_data.label == 1]['tokenized'].values)"
      ],
      "metadata": {
        "id": "SqxjZ6xoYWQV"
      },
      "execution_count": 62,
      "outputs": []
    },
    {
      "cell_type": "code",
      "source": [
        "fake_word_count = Counter(fake_words)\n",
        "print(fake_word_count.most_common(20))"
      ],
      "metadata": {
        "id": "RSknBIFhYmN1",
        "outputId": "c8fd5135-a82f-4b63-9ecc-910978bdc072",
        "colab": {
          "base_uri": "https://localhost:8080/"
        }
      },
      "execution_count": 63,
      "outputs": [
        {
          "output_type": "stream",
          "name": "stdout",
          "text": [
            "[('가짜', 2360), ('코로나', 2296), ('뉴스', 2278), ('트럼프', 874), ('한', 816), ('은', 801), ('는', 665), ('도', 634), ('신종', 553), ('대통령', 539), ('적', 516), ('명', 456), ('대응', 426), ('서', 418), ('확', 381), ('당', 369), ('만', 369), ('경찰', 368), ('진자', 358), ('정부', 334)]\n"
          ]
        }
      ]
    },
    {
      "cell_type": "code",
      "source": [
        "true_word_count = Counter(true_words)\n",
        "print(true_word_count.most_common(20))"
      ],
      "metadata": {
        "id": "0yWtp08CY4Te",
        "outputId": "4ad247af-f272-4073-d752-9db0b501f85c",
        "colab": {
          "base_uri": "https://localhost:8080/"
        }
      },
      "execution_count": 64,
      "outputs": [
        {
          "output_type": "stream",
          "name": "stdout",
          "text": [
            "[('코로나', 9217), ('명', 8488), ('한', 4802), ('문화', 4702), ('도', 4346), ('서', 4030), ('확진', 3630), ('백신', 3482), ('대', 3329), ('은', 3276), ('확', 3175), ('진자', 2621), ('만', 2617), ('접종', 2533), ('한국', 2500), ('시', 2500), ('회', 2499), ('는', 2467), ('방역', 2344), ('전', 2179)]\n"
          ]
        }
      ]
    },
    {
      "cell_type": "markdown",
      "source": [
        "# 해당 기사에 대한 분석 확인"
      ],
      "metadata": {
        "id": "M03cTkpeWBFd"
      }
    },
    {
      "cell_type": "code",
      "source": [
        "tfidf = TfidfVectorizer(max_features=300, tokenizer= okt_tokenizer)"
      ],
      "metadata": {
        "id": "ChJWWYzjhOU_"
      },
      "execution_count": 71,
      "outputs": []
    },
    {
      "cell_type": "code",
      "source": [
        "fig,(ax1,ax2) = plt.subplots(1,2,figsize=(10,5))\n",
        "text_len = train_data[train_data['label']==1]['tokenized'].map(lambda x: len(x))\n",
        "ax1.hist(text_len, color='red')\n",
        "ax1.set_title('Fake News')\n",
        "ax1.set_xlabel('length of samples')\n",
        "ax1.set_ylabel('number of samples')\n",
        "print('가짜 뉴스의 평균 길이 :', np.mean(text_len))\n",
        "\n",
        "text_len = train_data[train_data['label']==0]['tokenized'].map(lambda x: len(x))\n",
        "ax2.hist(text_len, color='blue')\n",
        "ax2.set_title('True news')\n",
        "fig.suptitle('Words in texts')\n",
        "ax2.set_xlabel('length of samples')\n",
        "ax2.set_ylabel('number of samples')\n",
        "print('진짜 뉴스의 평균 길이 :', np.mean(text_len))\n",
        "plt.show()"
      ],
      "metadata": {
        "id": "Zgag1zr8ZPnS",
        "outputId": "c01e31e0-2d31-409e-ed1e-dae454089c54",
        "colab": {
          "base_uri": "https://localhost:8080/",
          "height": 406
        }
      },
      "execution_count": 65,
      "outputs": [
        {
          "output_type": "stream",
          "name": "stdout",
          "text": [
            "가짜 뉴스의 평균 길이 : 9.390040106951872\n",
            "진짜 뉴스의 평균 길이 : 7.976179627840858\n"
          ]
        },
        {
          "output_type": "display_data",
          "data": {
            "text/plain": [
              "<Figure size 720x360 with 2 Axes>"
            ],
            "image/png": "[encoded data removed]"
          },
          "metadata": {
            "needs_background": "light"
          }
        }
      ]
    },
    {
      "cell_type": "markdown",
      "source": [],
      "metadata": {
        "id": "V3I2vrjuXerf"
      }
    },
    {
      "cell_type": "code",
      "source": [
        "X_train = train_data['tokenized'].values\n",
        "y_train = train_data['label'].values\n",
        "X_test= test_data['tokenized'].values\n",
        "y_test = test_data['label'].values"
      ],
      "metadata": {
        "id": "LfMoo6a_ZrKU"
      },
      "execution_count": 66,
      "outputs": []
    },
    {
      "cell_type": "code",
      "source": [
        "tdm = tfidf.fit_transform(df_test['본문'])"
      ],
      "metadata": {
        "id": "5Ux-BaSzTX4s",
        "outputId": "82994f41-285e-4a8c-b8cd-09a4431313e9",
        "colab": {
          "base_uri": "https://localhost:8080/",
          "height": 324
        }
      },
      "execution_count": 72,
      "outputs": [
        {
          "output_type": "error",
          "ename": "KeyboardInterrupt",
          "evalue": "ignored",
          "traceback": [
            "\u001b[0;31m---------------------------------------------------------------------------\u001b[0m",
            "\u001b[0;31mKeyboardInterrupt\u001b[0m                         Traceback (most recent call last)",
            "\u001b[0;32m<ipython-input-72-aa172390470d>\u001b[0m in \u001b[0;36m<module>\u001b[0;34m\u001b[0m\n\u001b[0;32m----> 1\u001b[0;31m \u001b[0mtdm\u001b[0m \u001b[0;34m=\u001b[0m \u001b[0mtfidf\u001b[0m\u001b[0;34m.\u001b[0m\u001b[0mfit_transform\u001b[0m\u001b[0;34m(\u001b[0m\u001b[0mdf_test\u001b[0m\u001b[0;34m[\u001b[0m\u001b[0;34m'본문'\u001b[0m\u001b[0;34m]\u001b[0m\u001b[0;34m)\u001b[0m\u001b[0;34m\u001b[0m\u001b[0;34m\u001b[0m\u001b[0m\n\u001b[0m",
            "\u001b[0;32m/usr/local/lib/python3.7/dist-packages/sklearn/feature_extraction/text.py\u001b[0m in \u001b[0;36mfit_transform\u001b[0;34m(self, raw_documents, y)\u001b[0m\n\u001b[1;32m   2075\u001b[0m         \"\"\"\n\u001b[1;32m   2076\u001b[0m         \u001b[0mself\u001b[0m\u001b[0;34m.\u001b[0m\u001b[0m_check_params\u001b[0m\u001b[0;34m(\u001b[0m\u001b[0;34m)\u001b[0m\u001b[0;34m\u001b[0m\u001b[0;34m\u001b[0m\u001b[0m\n\u001b[0;32m-> 2077\u001b[0;31m         \u001b[0mX\u001b[0m \u001b[0;34m=\u001b[0m \u001b[0msuper\u001b[0m\u001b[0;34m(\u001b[0m\u001b[0;34m)\u001b[0m\u001b[0;34m.\u001b[0m\u001b[0mfit_transform\u001b[0m\u001b[0;34m(\u001b[0m\u001b[0mraw_documents\u001b[0m\u001b[0;34m)\u001b[0m\u001b[0;34m\u001b[0m\u001b[0;34m\u001b[0m\u001b[0m\n\u001b[0m\u001b[1;32m   2078\u001b[0m         \u001b[0mself\u001b[0m\u001b[0;34m.\u001b[0m\u001b[0m_tfidf\u001b[0m\u001b[0;34m.\u001b[0m\u001b[0mfit\u001b[0m\u001b[0;34m(\u001b[0m\u001b[0mX\u001b[0m\u001b[0;34m)\u001b[0m\u001b[0;34m\u001b[0m\u001b[0;34m\u001b[0m\u001b[0m\n\u001b[1;32m   2079\u001b[0m         \u001b[0;31m# X is already a transformed view of raw_documents so\u001b[0m\u001b[0;34m\u001b[0m\u001b[0;34m\u001b[0m\u001b[0;34m\u001b[0m\u001b[0m\n",
            "\u001b[0;32m/usr/local/lib/python3.7/dist-packages/sklearn/feature_extraction/text.py\u001b[0m in \u001b[0;36mfit_transform\u001b[0;34m(self, raw_documents, y)\u001b[0m\n\u001b[1;32m   1328\u001b[0m                     \u001b[0;32mbreak\u001b[0m\u001b[0;34m\u001b[0m\u001b[0;34m\u001b[0m\u001b[0m\n\u001b[1;32m   1329\u001b[0m \u001b[0;34m\u001b[0m\u001b[0m\n\u001b[0;32m-> 1330\u001b[0;31m         \u001b[0mvocabulary\u001b[0m\u001b[0;34m,\u001b[0m \u001b[0mX\u001b[0m \u001b[0;34m=\u001b[0m \u001b[0mself\u001b[0m\u001b[0;34m.\u001b[0m\u001b[0m_count_vocab\u001b[0m\u001b[0;34m(\u001b[0m\u001b[0mraw_documents\u001b[0m\u001b[0;34m,\u001b[0m \u001b[0mself\u001b[0m\u001b[0;34m.\u001b[0m\u001b[0mfixed_vocabulary_\u001b[0m\u001b[0;34m)\u001b[0m\u001b[0;34m\u001b[0m\u001b[0;34m\u001b[0m\u001b[0m\n\u001b[0m\u001b[1;32m   1331\u001b[0m \u001b[0;34m\u001b[0m\u001b[0m\n\u001b[1;32m   1332\u001b[0m         \u001b[0;32mif\u001b[0m \u001b[0mself\u001b[0m\u001b[0;34m.\u001b[0m\u001b[0mbinary\u001b[0m\u001b[0;34m:\u001b[0m\u001b[0;34m\u001b[0m\u001b[0;34m\u001b[0m\u001b[0m\n",
            "\u001b[0;32m/usr/local/lib/python3.7/dist-packages/sklearn/feature_extraction/text.py\u001b[0m in \u001b[0;36m_count_vocab\u001b[0;34m(self, raw_documents, fixed_vocab)\u001b[0m\n\u001b[1;32m   1199\u001b[0m         \u001b[0;32mfor\u001b[0m \u001b[0mdoc\u001b[0m \u001b[0;32min\u001b[0m \u001b[0mraw_documents\u001b[0m\u001b[0;34m:\u001b[0m\u001b[0;34m\u001b[0m\u001b[0;34m\u001b[0m\u001b[0m\n\u001b[1;32m   1200\u001b[0m             \u001b[0mfeature_counter\u001b[0m \u001b[0;34m=\u001b[0m \u001b[0;34m{\u001b[0m\u001b[0;34m}\u001b[0m\u001b[0;34m\u001b[0m\u001b[0;34m\u001b[0m\u001b[0m\n\u001b[0;32m-> 1201\u001b[0;31m             \u001b[0;32mfor\u001b[0m \u001b[0mfeature\u001b[0m \u001b[0;32min\u001b[0m \u001b[0manalyze\u001b[0m\u001b[0;34m(\u001b[0m\u001b[0mdoc\u001b[0m\u001b[0;34m)\u001b[0m\u001b[0;34m:\u001b[0m\u001b[0;34m\u001b[0m\u001b[0;34m\u001b[0m\u001b[0m\n\u001b[0m\u001b[1;32m   1202\u001b[0m                 \u001b[0;32mtry\u001b[0m\u001b[0;34m:\u001b[0m\u001b[0;34m\u001b[0m\u001b[0;34m\u001b[0m\u001b[0m\n\u001b[1;32m   1203\u001b[0m                     \u001b[0mfeature_idx\u001b[0m \u001b[0;34m=\u001b[0m \u001b[0mvocabulary\u001b[0m\u001b[0;34m[\u001b[0m\u001b[0mfeature\u001b[0m\u001b[0;34m]\u001b[0m\u001b[0;34m\u001b[0m\u001b[0;34m\u001b[0m\u001b[0m\n",
            "\u001b[0;32m/usr/local/lib/python3.7/dist-packages/sklearn/feature_extraction/text.py\u001b[0m in \u001b[0;36m_analyze\u001b[0;34m(doc, analyzer, tokenizer, ngrams, preprocessor, decoder, stop_words)\u001b[0m\n\u001b[1;32m    113\u001b[0m             \u001b[0mdoc\u001b[0m \u001b[0;34m=\u001b[0m \u001b[0mpreprocessor\u001b[0m\u001b[0;34m(\u001b[0m\u001b[0mdoc\u001b[0m\u001b[0;34m)\u001b[0m\u001b[0;34m\u001b[0m\u001b[0;34m\u001b[0m\u001b[0m\n\u001b[1;32m    114\u001b[0m         \u001b[0;32mif\u001b[0m \u001b[0mtokenizer\u001b[0m \u001b[0;32mis\u001b[0m \u001b[0;32mnot\u001b[0m \u001b[0;32mNone\u001b[0m\u001b[0;34m:\u001b[0m\u001b[0;34m\u001b[0m\u001b[0;34m\u001b[0m\u001b[0m\n\u001b[0;32m--> 115\u001b[0;31m             \u001b[0mdoc\u001b[0m \u001b[0;34m=\u001b[0m \u001b[0mtokenizer\u001b[0m\u001b[0;34m(\u001b[0m\u001b[0mdoc\u001b[0m\u001b[0;34m)\u001b[0m\u001b[0;34m\u001b[0m\u001b[0;34m\u001b[0m\u001b[0m\n\u001b[0m\u001b[1;32m    116\u001b[0m         \u001b[0;32mif\u001b[0m \u001b[0mngrams\u001b[0m \u001b[0;32mis\u001b[0m \u001b[0;32mnot\u001b[0m \u001b[0;32mNone\u001b[0m\u001b[0;34m:\u001b[0m\u001b[0;34m\u001b[0m\u001b[0;34m\u001b[0m\u001b[0m\n\u001b[1;32m    117\u001b[0m             \u001b[0;32mif\u001b[0m \u001b[0mstop_words\u001b[0m \u001b[0;32mis\u001b[0m \u001b[0;32mnot\u001b[0m \u001b[0;32mNone\u001b[0m\u001b[0;34m:\u001b[0m\u001b[0;34m\u001b[0m\u001b[0;34m\u001b[0m\u001b[0m\n",
            "\u001b[0;32m<ipython-input-55-0d412c7e3c9b>\u001b[0m in \u001b[0;36mokt_tokenizer\u001b[0;34m(text)\u001b[0m\n\u001b[1;32m      4\u001b[0m     \u001b[0mstopwords\u001b[0m \u001b[0;34m=\u001b[0m \u001b[0mget_stopwords\u001b[0m\u001b[0;34m(\u001b[0m\u001b[0;34m)\u001b[0m \u001b[0;31m# 불용어\u001b[0m\u001b[0;34m\u001b[0m\u001b[0;34m\u001b[0m\u001b[0m\n\u001b[1;32m      5\u001b[0m \u001b[0;34m\u001b[0m\u001b[0m\n\u001b[0;32m----> 6\u001b[0;31m     return [token for token in okt.nouns(text)\n\u001b[0m\u001b[1;32m      7\u001b[0m             if len(token) > 1 and token not in stopwords]\n",
            "\u001b[0;32m/usr/local/lib/python3.7/dist-packages/konlpy/tag/_okt.py\u001b[0m in \u001b[0;36mnouns\u001b[0;34m(self, phrase)\u001b[0m\n\u001b[1;32m     81\u001b[0m         \u001b[0;34m\"\"\"Noun extractor.\"\"\"\u001b[0m\u001b[0;34m\u001b[0m\u001b[0;34m\u001b[0m\u001b[0m\n\u001b[1;32m     82\u001b[0m \u001b[0;34m\u001b[0m\u001b[0m\n\u001b[0;32m---> 83\u001b[0;31m         \u001b[0mtagged\u001b[0m \u001b[0;34m=\u001b[0m \u001b[0mself\u001b[0m\u001b[0;34m.\u001b[0m\u001b[0mpos\u001b[0m\u001b[0;34m(\u001b[0m\u001b[0mphrase\u001b[0m\u001b[0;34m)\u001b[0m\u001b[0;34m\u001b[0m\u001b[0;34m\u001b[0m\u001b[0m\n\u001b[0m\u001b[1;32m     84\u001b[0m         \u001b[0;32mreturn\u001b[0m \u001b[0;34m[\u001b[0m\u001b[0ms\u001b[0m \u001b[0;32mfor\u001b[0m \u001b[0ms\u001b[0m\u001b[0;34m,\u001b[0m \u001b[0mt\u001b[0m \u001b[0;32min\u001b[0m \u001b[0mtagged\u001b[0m \u001b[0;32mif\u001b[0m \u001b[0mt\u001b[0m \u001b[0;34m==\u001b[0m \u001b[0;34m'Noun'\u001b[0m\u001b[0;34m]\u001b[0m\u001b[0;34m\u001b[0m\u001b[0;34m\u001b[0m\u001b[0m\n\u001b[1;32m     85\u001b[0m \u001b[0;34m\u001b[0m\u001b[0m\n",
            "\u001b[0;32m/usr/local/lib/python3.7/dist-packages/konlpy/tag/_okt.py\u001b[0m in \u001b[0;36mpos\u001b[0;34m(self, phrase, norm, stem, join)\u001b[0m\n\u001b[1;32m     72\u001b[0m                     \u001b[0mphrase\u001b[0m\u001b[0;34m,\u001b[0m\u001b[0;34m\u001b[0m\u001b[0;34m\u001b[0m\u001b[0m\n\u001b[1;32m     73\u001b[0m                     \u001b[0mjpype\u001b[0m\u001b[0;34m.\u001b[0m\u001b[0mjava\u001b[0m\u001b[0;34m.\u001b[0m\u001b[0mlang\u001b[0m\u001b[0;34m.\u001b[0m\u001b[0mBoolean\u001b[0m\u001b[0;34m(\u001b[0m\u001b[0mnorm\u001b[0m\u001b[0;34m)\u001b[0m\u001b[0;34m,\u001b[0m\u001b[0;34m\u001b[0m\u001b[0;34m\u001b[0m\u001b[0m\n\u001b[0;32m---> 74\u001b[0;31m                     jpype.java.lang.Boolean(stem)).toArray()\n\u001b[0m\u001b[1;32m     75\u001b[0m         \u001b[0;32mif\u001b[0m \u001b[0mjoin\u001b[0m\u001b[0;34m:\u001b[0m\u001b[0;34m\u001b[0m\u001b[0;34m\u001b[0m\u001b[0m\n\u001b[1;32m     76\u001b[0m             \u001b[0;32mreturn\u001b[0m \u001b[0;34m[\u001b[0m\u001b[0mt\u001b[0m \u001b[0;32mfor\u001b[0m \u001b[0mt\u001b[0m \u001b[0;32min\u001b[0m \u001b[0mtokens\u001b[0m\u001b[0;34m]\u001b[0m\u001b[0;34m\u001b[0m\u001b[0;34m\u001b[0m\u001b[0m\n",
            "\u001b[0;31mKeyboardInterrupt\u001b[0m: "
          ]
        }
      ]
    },
    {
      "cell_type": "code",
      "source": [
        "word_count = pd.DataFrame({\n",
        "    '단어':  CountVectorizer.get_feature_names(),\n",
        "    'tf-idf': tdm.sum(axis=0).flat\n",
        "})"
      ],
      "metadata": {
        "id": "TynekhyXUhzF"
      },
      "execution_count": null,
      "outputs": []
    },
    {
      "cell_type": "code",
      "source": [
        "word_count.sort_values('tf-idf', ascending=False).head(5)"
      ],
      "metadata": {
        "id": "t99t6bmrUj3r"
      },
      "execution_count": null,
      "outputs": []
    },
    {
      "cell_type": "code",
      "source": [
        "from sklearn.model_selection import train_test_split\n",
        "from sklearn.tree import DecisionTreeClassifier\n",
        "from sklearn.metrics import precision_score, recall_score\n",
        "X_train, X_test, y_train, y_test = train_test_split(\n",
        "    df_test, df_test['label'], test_size=0.2, random_state= 42)"
      ],
      "metadata": {
        "id": "hdHvuhZ_5A0l"
      },
      "execution_count": null,
      "outputs": []
    },
    {
      "cell_type": "code",
      "source": [],
      "metadata": {
        "id": "Zyne2WJxS2Ii"
      },
      "execution_count": null,
      "outputs": []
    },
    {
      "cell_type": "markdown",
      "source": [
        "# 모델 구현(Bi-LSTM)"
      ],
      "metadata": {
        "id": "MA_zNRlJaNkT"
      }
    },
    {
      "cell_type": "code",
      "source": [
        "embedding_dim = 128\n",
        "hidden_units = 128\n",
        "\n",
        "model = Sequential()\n",
        "model.add(Embedding(vocab_size, embedding_dim, mask_zero=True))\n",
        "model.add(Bidirectional(LSTM(hidden_units, return_sequences=True)))\n",
        "model.add(TimeDistributed(Dense(tag_size, activation=('softmax'))))\n",
        "\n",
        "model.compile(loss='sparse_categorical_crossentropy', optimizer=Adam(0.001), metrics=['accuracy'])\n",
        "model.fit(X_train, y_train, batch_size=128, epochs=7, validation_data=(X_test, y_test))"
      ],
      "metadata": {
        "id": "e-zti-AbVMZz"
      },
      "execution_count": null,
      "outputs": []
    },
    {
      "cell_type": "markdown",
      "source": [
        "# 그것을 바탕으로 분석한 결과로 결론 도출"
      ],
      "metadata": {
        "id": "-6R8jmtxWFdV"
      }
    },
    {
      "cell_type": "code",
      "source": [],
      "metadata": {
        "id": "t7rEcygQVv8h"
      },
      "execution_count": null,
      "outputs": []
    },
    {
      "cell_type": "markdown",
      "source": [
        "결론을 내기 앞서 이것보다 짧은 기사 제목을 이용하여 LSTM 방식으로 어떤 것이 "
      ],
      "metadata": {
        "id": "gJdz8xRdVwts"
      }
    },
    {
      "cell_type": "markdown",
      "source": [
        "# 참고 자료"
      ],
      "metadata": {
        "id": "Ro-Z7YIrXsAs"
      }
    },
    {
      "cell_type": "markdown",
      "source": [
        "knoply 관련 참고자료 : https://konlpy.org/_/downloads/en/latest/pdf/\n",
        "\n",
        "한국어 전처리 과정 : https://datascienceschool.net/03%20machine%20learning/03.01.02%20KoNLPy%20%ED%95%9C%EA%B5%AD%EC%96%B4%20%EC%B2%98%EB%A6%AC%20%ED%8C%A8%ED%82%A4%EC%A7%80.html"
      ],
      "metadata": {
        "id": "VQ90O0z-XwPy"
      }
    }
  ]
}