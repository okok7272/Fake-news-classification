{
  "nbformat": 4,
  "nbformat_minor": 0,
  "metadata": {
    "colab": {
      "provenance": [],
      "collapsed_sections": [],
      "machine_shape": "hm"
    },
    "kernelspec": {
      "name": "python3",
      "display_name": "Python 3"
    },
    "language_info": {
      "name": "python"
    },
    "accelerator": "GPU",
    "gpuClass": "standard"
  },
  "cells": [
    {
      "cell_type": "code",
      "source": [
        "!apt-get update\n",
        "!apt-get install g++ openjdk-8-jdk python-dev python3-dev\n",
        "!pip install JPype1\n",
        "!pip install konlpy\n",
        "!JAVA_HOME=\"C:\\Program Files\\Java\\jdk-19\"\n"
      ],
      "metadata": {
        "colab": {
          "base_uri": "https://localhost:8080/"
        },
        "id": "TVsWxf2Yk7AG",
        "outputId": "df945bb4-a59e-4fa8-c1c2-ad6481b8324b"
      },
      "execution_count": 1,
      "outputs": [
        {
          "output_type": "stream",
          "name": "stdout",
          "text": [
            "Get:1 https://cloud.r-project.org/bin/linux/ubuntu bionic-cran40/ InRelease [3,626 B]\n",
            "Ign:2 https://developer.download.nvidia.com/compute/machine-learning/repos/ubuntu1804/x86_64  InRelease\n",
            "Get:3 https://developer.download.nvidia.com/compute/cuda/repos/ubuntu1804/x86_64  InRelease [1,581 B]\n",
            "Hit:4 http://ppa.launchpad.net/c2d4u.team/c2d4u4.0+/ubuntu bionic InRelease\n",
            "Hit:5 https://developer.download.nvidia.com/compute/machine-learning/repos/ubuntu1804/x86_64  Release\n",
            "Get:6 https://developer.download.nvidia.com/compute/cuda/repos/ubuntu1804/x86_64  Packages [913 kB]\n",
            "Get:7 http://security.ubuntu.com/ubuntu bionic-security InRelease [88.7 kB]\n",
            "Hit:8 http://archive.ubuntu.com/ubuntu bionic InRelease\n",
            "Get:10 http://archive.ubuntu.com/ubuntu bionic-updates InRelease [88.7 kB]\n",
            "Hit:11 http://ppa.launchpad.net/cran/libgit2/ubuntu bionic InRelease\n",
            "Hit:12 http://ppa.launchpad.net/deadsnakes/ppa/ubuntu bionic InRelease\n",
            "Get:13 http://security.ubuntu.com/ubuntu bionic-security/main amd64 Packages [2,990 kB]\n",
            "Get:14 http://archive.ubuntu.com/ubuntu bionic-backports InRelease [83.3 kB]\n",
            "Get:15 http://ppa.launchpad.net/graphics-drivers/ppa/ubuntu bionic InRelease [21.3 kB]\n",
            "Get:16 http://archive.ubuntu.com/ubuntu bionic-updates/main amd64 Packages [3,422 kB]\n",
            "Get:17 http://ppa.launchpad.net/graphics-drivers/ppa/ubuntu bionic/main amd64 Packages [48.3 kB]\n",
            "Get:18 http://security.ubuntu.com/ubuntu bionic-security/universe amd64 Packages [1,546 kB]\n",
            "Get:19 http://archive.ubuntu.com/ubuntu bionic-updates/universe amd64 Packages [2,323 kB]\n",
            "Fetched 11.5 MB in 4s (2,969 kB/s)\n",
            "Reading package lists... Done\n",
            "Reading package lists... Done\n",
            "Building dependency tree       \n",
            "Reading state information... Done\n",
            "python-dev is already the newest version (2.7.15~rc1-1).\n",
            "g++ is already the newest version (4:7.4.0-1ubuntu2.3).\n",
            "g++ set to manually installed.\n",
            "python3-dev is already the newest version (3.6.7-1~18.04).\n",
            "python3-dev set to manually installed.\n",
            "The following package was automatically installed and is no longer required:\n",
            "  libnvidia-common-460\n",
            "Use 'apt autoremove' to remove it.\n",
            "The following additional packages will be installed:\n",
            "  fonts-dejavu-core fonts-dejavu-extra libatk-wrapper-java\n",
            "  libatk-wrapper-java-jni libgail-common libgail18 libgtk2.0-0 libgtk2.0-bin\n",
            "  libgtk2.0-common libxxf86dga1 openjdk-8-jdk-headless openjdk-8-jre\n",
            "  openjdk-8-jre-headless x11-utils\n",
            "Suggested packages:\n",
            "  gvfs openjdk-8-demo openjdk-8-source visualvm libnss-mdns\n",
            "  fonts-ipafont-gothic fonts-ipafont-mincho fonts-wqy-microhei\n",
            "  fonts-wqy-zenhei fonts-indic mesa-utils\n",
            "The following NEW packages will be installed:\n",
            "  fonts-dejavu-core fonts-dejavu-extra libatk-wrapper-java\n",
            "  libatk-wrapper-java-jni libgail-common libgail18 libgtk2.0-0 libgtk2.0-bin\n",
            "  libgtk2.0-common libxxf86dga1 openjdk-8-jdk openjdk-8-jdk-headless\n",
            "  openjdk-8-jre openjdk-8-jre-headless x11-utils\n",
            "0 upgraded, 15 newly installed, 0 to remove and 20 not upgraded.\n",
            "Need to get 46.0 MB of archives.\n",
            "After this operation, 166 MB of additional disk space will be used.\n",
            "Get:1 http://archive.ubuntu.com/ubuntu bionic/main amd64 libxxf86dga1 amd64 2:1.1.4-1 [13.7 kB]\n",
            "Get:2 http://archive.ubuntu.com/ubuntu bionic/main amd64 fonts-dejavu-core all 2.37-1 [1,041 kB]\n",
            "Get:3 http://archive.ubuntu.com/ubuntu bionic/main amd64 fonts-dejavu-extra all 2.37-1 [1,953 kB]\n",
            "Get:4 http://archive.ubuntu.com/ubuntu bionic/main amd64 x11-utils amd64 7.7+3build1 [196 kB]\n",
            "Get:5 http://archive.ubuntu.com/ubuntu bionic/main amd64 libatk-wrapper-java all 0.33.3-20ubuntu0.1 [34.7 kB]\n",
            "Get:6 http://archive.ubuntu.com/ubuntu bionic/main amd64 libatk-wrapper-java-jni amd64 0.33.3-20ubuntu0.1 [28.3 kB]\n",
            "Get:7 http://archive.ubuntu.com/ubuntu bionic/main amd64 libgtk2.0-common all 2.24.32-1ubuntu1 [125 kB]\n",
            "Get:8 http://archive.ubuntu.com/ubuntu bionic/main amd64 libgtk2.0-0 amd64 2.24.32-1ubuntu1 [1,769 kB]\n",
            "Get:9 http://archive.ubuntu.com/ubuntu bionic/main amd64 libgail18 amd64 2.24.32-1ubuntu1 [14.2 kB]\n",
            "Get:10 http://archive.ubuntu.com/ubuntu bionic/main amd64 libgail-common amd64 2.24.32-1ubuntu1 [112 kB]\n",
            "Get:11 http://archive.ubuntu.com/ubuntu bionic/main amd64 libgtk2.0-bin amd64 2.24.32-1ubuntu1 [7,536 B]\n",
            "Get:12 http://archive.ubuntu.com/ubuntu bionic-updates/universe amd64 openjdk-8-jre-headless amd64 8u342-b07-0ubuntu1~18.04 [28.3 MB]\n",
            "Get:13 http://archive.ubuntu.com/ubuntu bionic-updates/universe amd64 openjdk-8-jre amd64 8u342-b07-0ubuntu1~18.04 [69.6 kB]\n",
            "Get:14 http://archive.ubuntu.com/ubuntu bionic-updates/universe amd64 openjdk-8-jdk-headless amd64 8u342-b07-0ubuntu1~18.04 [8,300 kB]\n",
            "Get:15 http://archive.ubuntu.com/ubuntu bionic-updates/universe amd64 openjdk-8-jdk amd64 8u342-b07-0ubuntu1~18.04 [4,032 kB]\n",
            "Fetched 46.0 MB in 6s (7,797 kB/s)\n",
            "Selecting previously unselected package libxxf86dga1:amd64.\n",
            "(Reading database ... 159447 files and directories currently installed.)\n",
            "Preparing to unpack .../00-libxxf86dga1_2%3a1.1.4-1_amd64.deb ...\n",
            "Unpacking libxxf86dga1:amd64 (2:1.1.4-1) ...\n",
            "Selecting previously unselected package fonts-dejavu-core.\n",
            "Preparing to unpack .../01-fonts-dejavu-core_2.37-1_all.deb ...\n",
            "Unpacking fonts-dejavu-core (2.37-1) ...\n",
            "Selecting previously unselected package fonts-dejavu-extra.\n",
            "Preparing to unpack .../02-fonts-dejavu-extra_2.37-1_all.deb ...\n",
            "Unpacking fonts-dejavu-extra (2.37-1) ...\n",
            "Selecting previously unselected package x11-utils.\n",
            "Preparing to unpack .../03-x11-utils_7.7+3build1_amd64.deb ...\n",
            "Unpacking x11-utils (7.7+3build1) ...\n",
            "Selecting previously unselected package libatk-wrapper-java.\n",
            "Preparing to unpack .../04-libatk-wrapper-java_0.33.3-20ubuntu0.1_all.deb ...\n",
            "Unpacking libatk-wrapper-java (0.33.3-20ubuntu0.1) ...\n",
            "Selecting previously unselected package libatk-wrapper-java-jni:amd64.\n",
            "Preparing to unpack .../05-libatk-wrapper-java-jni_0.33.3-20ubuntu0.1_amd64.deb ...\n",
            "Unpacking libatk-wrapper-java-jni:amd64 (0.33.3-20ubuntu0.1) ...\n",
            "Selecting previously unselected package libgtk2.0-common.\n",
            "Preparing to unpack .../06-libgtk2.0-common_2.24.32-1ubuntu1_all.deb ...\n",
            "Unpacking libgtk2.0-common (2.24.32-1ubuntu1) ...\n",
            "Selecting previously unselected package libgtk2.0-0:amd64.\n",
            "Preparing to unpack .../07-libgtk2.0-0_2.24.32-1ubuntu1_amd64.deb ...\n",
            "Unpacking libgtk2.0-0:amd64 (2.24.32-1ubuntu1) ...\n",
            "Selecting previously unselected package libgail18:amd64.\n",
            "Preparing to unpack .../08-libgail18_2.24.32-1ubuntu1_amd64.deb ...\n",
            "Unpacking libgail18:amd64 (2.24.32-1ubuntu1) ...\n",
            "Selecting previously unselected package libgail-common:amd64.\n",
            "Preparing to unpack .../09-libgail-common_2.24.32-1ubuntu1_amd64.deb ...\n",
            "Unpacking libgail-common:amd64 (2.24.32-1ubuntu1) ...\n",
            "Selecting previously unselected package libgtk2.0-bin.\n",
            "Preparing to unpack .../10-libgtk2.0-bin_2.24.32-1ubuntu1_amd64.deb ...\n",
            "Unpacking libgtk2.0-bin (2.24.32-1ubuntu1) ...\n",
            "Selecting previously unselected package openjdk-8-jre-headless:amd64.\n",
            "Preparing to unpack .../11-openjdk-8-jre-headless_8u342-b07-0ubuntu1~18.04_amd64.deb ...\n",
            "Unpacking openjdk-8-jre-headless:amd64 (8u342-b07-0ubuntu1~18.04) ...\n",
            "Selecting previously unselected package openjdk-8-jre:amd64.\n",
            "Preparing to unpack .../12-openjdk-8-jre_8u342-b07-0ubuntu1~18.04_amd64.deb ...\n",
            "Unpacking openjdk-8-jre:amd64 (8u342-b07-0ubuntu1~18.04) ...\n",
            "Selecting previously unselected package openjdk-8-jdk-headless:amd64.\n",
            "Preparing to unpack .../13-openjdk-8-jdk-headless_8u342-b07-0ubuntu1~18.04_amd64.deb ...\n",
            "Unpacking openjdk-8-jdk-headless:amd64 (8u342-b07-0ubuntu1~18.04) ...\n",
            "Selecting previously unselected package openjdk-8-jdk:amd64.\n",
            "Preparing to unpack .../14-openjdk-8-jdk_8u342-b07-0ubuntu1~18.04_amd64.deb ...\n",
            "Unpacking openjdk-8-jdk:amd64 (8u342-b07-0ubuntu1~18.04) ...\n",
            "Setting up libgtk2.0-common (2.24.32-1ubuntu1) ...\n",
            "Setting up fonts-dejavu-core (2.37-1) ...\n",
            "Setting up libxxf86dga1:amd64 (2:1.1.4-1) ...\n",
            "Setting up fonts-dejavu-extra (2.37-1) ...\n",
            "Setting up openjdk-8-jre-headless:amd64 (8u342-b07-0ubuntu1~18.04) ...\n",
            "update-alternatives: using /usr/lib/jvm/java-8-openjdk-amd64/jre/bin/orbd to provide /usr/bin/orbd (orbd) in auto mode\n",
            "update-alternatives: using /usr/lib/jvm/java-8-openjdk-amd64/jre/bin/servertool to provide /usr/bin/servertool (servertool) in auto mode\n",
            "update-alternatives: using /usr/lib/jvm/java-8-openjdk-amd64/jre/bin/tnameserv to provide /usr/bin/tnameserv (tnameserv) in auto mode\n",
            "Setting up libgtk2.0-0:amd64 (2.24.32-1ubuntu1) ...\n",
            "Setting up libgail18:amd64 (2.24.32-1ubuntu1) ...\n",
            "Setting up openjdk-8-jdk-headless:amd64 (8u342-b07-0ubuntu1~18.04) ...\n",
            "update-alternatives: using /usr/lib/jvm/java-8-openjdk-amd64/bin/idlj to provide /usr/bin/idlj (idlj) in auto mode\n",
            "update-alternatives: using /usr/lib/jvm/java-8-openjdk-amd64/bin/wsimport to provide /usr/bin/wsimport (wsimport) in auto mode\n",
            "update-alternatives: using /usr/lib/jvm/java-8-openjdk-amd64/bin/jsadebugd to provide /usr/bin/jsadebugd (jsadebugd) in auto mode\n",
            "update-alternatives: using /usr/lib/jvm/java-8-openjdk-amd64/bin/native2ascii to provide /usr/bin/native2ascii (native2ascii) in auto mode\n",
            "update-alternatives: using /usr/lib/jvm/java-8-openjdk-amd64/bin/javah to provide /usr/bin/javah (javah) in auto mode\n",
            "update-alternatives: using /usr/lib/jvm/java-8-openjdk-amd64/bin/clhsdb to provide /usr/bin/clhsdb (clhsdb) in auto mode\n",
            "update-alternatives: using /usr/lib/jvm/java-8-openjdk-amd64/bin/xjc to provide /usr/bin/xjc (xjc) in auto mode\n",
            "update-alternatives: using /usr/lib/jvm/java-8-openjdk-amd64/bin/hsdb to provide /usr/bin/hsdb (hsdb) in auto mode\n",
            "update-alternatives: using /usr/lib/jvm/java-8-openjdk-amd64/bin/schemagen to provide /usr/bin/schemagen (schemagen) in auto mode\n",
            "update-alternatives: using /usr/lib/jvm/java-8-openjdk-amd64/bin/extcheck to provide /usr/bin/extcheck (extcheck) in auto mode\n",
            "update-alternatives: using /usr/lib/jvm/java-8-openjdk-amd64/bin/jhat to provide /usr/bin/jhat (jhat) in auto mode\n",
            "update-alternatives: using /usr/lib/jvm/java-8-openjdk-amd64/bin/wsgen to provide /usr/bin/wsgen (wsgen) in auto mode\n",
            "Setting up x11-utils (7.7+3build1) ...\n",
            "Setting up libgail-common:amd64 (2.24.32-1ubuntu1) ...\n",
            "Setting up libatk-wrapper-java (0.33.3-20ubuntu0.1) ...\n",
            "Setting up libgtk2.0-bin (2.24.32-1ubuntu1) ...\n",
            "Setting up libatk-wrapper-java-jni:amd64 (0.33.3-20ubuntu0.1) ...\n",
            "Setting up openjdk-8-jre:amd64 (8u342-b07-0ubuntu1~18.04) ...\n",
            "update-alternatives: using /usr/lib/jvm/java-8-openjdk-amd64/jre/bin/policytool to provide /usr/bin/policytool (policytool) in auto mode\n",
            "Setting up openjdk-8-jdk:amd64 (8u342-b07-0ubuntu1~18.04) ...\n",
            "update-alternatives: using /usr/lib/jvm/java-8-openjdk-amd64/bin/appletviewer to provide /usr/bin/appletviewer (appletviewer) in auto mode\n",
            "update-alternatives: using /usr/lib/jvm/java-8-openjdk-amd64/bin/jconsole to provide /usr/bin/jconsole (jconsole) in auto mode\n",
            "Processing triggers for man-db (2.8.3-2ubuntu0.1) ...\n",
            "Processing triggers for hicolor-icon-theme (0.17-2) ...\n",
            "Processing triggers for fontconfig (2.12.6-0ubuntu2) ...\n",
            "Processing triggers for mime-support (3.60ubuntu1) ...\n",
            "Processing triggers for libc-bin (2.27-3ubuntu1.5) ...\n",
            "Looking in indexes: https://pypi.org/simple, https://us-python.pkg.dev/colab-wheels/public/simple/\n",
            "Collecting JPype1\n",
            "  Downloading JPype1-1.4.0-cp37-cp37m-manylinux_2_5_x86_64.manylinux1_x86_64.whl (453 kB)\n",
            "\u001b[K     |████████████████████████████████| 453 kB 2.1 MB/s \n",
            "\u001b[?25hRequirement already satisfied: typing-extensions in /usr/local/lib/python3.7/dist-packages (from JPype1) (4.1.1)\n",
            "Installing collected packages: JPype1\n",
            "Successfully installed JPype1-1.4.0\n",
            "Looking in indexes: https://pypi.org/simple, https://us-python.pkg.dev/colab-wheels/public/simple/\n",
            "Collecting konlpy\n",
            "  Downloading konlpy-0.6.0-py2.py3-none-any.whl (19.4 MB)\n",
            "\u001b[K     |████████████████████████████████| 19.4 MB 2.0 MB/s \n",
            "\u001b[?25hRequirement already satisfied: JPype1>=0.7.0 in /usr/local/lib/python3.7/dist-packages (from konlpy) (1.4.0)\n",
            "Requirement already satisfied: lxml>=4.1.0 in /usr/local/lib/python3.7/dist-packages (from konlpy) (4.9.1)\n",
            "Requirement already satisfied: numpy>=1.6 in /usr/local/lib/python3.7/dist-packages (from konlpy) (1.21.6)\n",
            "Requirement already satisfied: typing-extensions in /usr/local/lib/python3.7/dist-packages (from JPype1>=0.7.0->konlpy) (4.1.1)\n",
            "Installing collected packages: konlpy\n",
            "Successfully installed konlpy-0.6.0\n"
          ]
        }
      ]
    },
    {
      "cell_type": "code",
      "source": [
        "import konlpy\n",
        "\n",
        "from konlpy.tag import Okt\n",
        "\n",
        "from konlpy.utils import pprint\n",
        "\n",
        "okt = Okt()"
      ],
      "metadata": {
        "id": "2f823_MIvu2L"
      },
      "execution_count": 2,
      "outputs": []
    },
    {
      "cell_type": "markdown",
      "source": [
        "# 새 섹션"
      ],
      "metadata": {
        "id": "YaMyK1Q10uQ8"
      }
    },
    {
      "cell_type": "code",
      "source": [
        "!pip install fasttext"
      ],
      "metadata": {
        "colab": {
          "base_uri": "https://localhost:8080/"
        },
        "id": "55aUhnm1paqz",
        "outputId": "cd47b6af-d2d1-4a7a-fa84-732b9c2ac7e2"
      },
      "execution_count": 3,
      "outputs": [
        {
          "output_type": "stream",
          "name": "stdout",
          "text": [
            "Looking in indexes: https://pypi.org/simple, https://us-python.pkg.dev/colab-wheels/public/simple/\n",
            "Collecting fasttext\n",
            "  Downloading fasttext-0.9.2.tar.gz (68 kB)\n",
            "\u001b[K     |████████████████████████████████| 68 kB 1.8 MB/s \n",
            "\u001b[?25hCollecting pybind11>=2.2\n",
            "  Using cached pybind11-2.10.0-py3-none-any.whl (213 kB)\n",
            "Requirement already satisfied: setuptools>=0.7.0 in /usr/local/lib/python3.7/dist-packages (from fasttext) (57.4.0)\n",
            "Requirement already satisfied: numpy in /usr/local/lib/python3.7/dist-packages (from fasttext) (1.21.6)\n",
            "Building wheels for collected packages: fasttext\n",
            "  Building wheel for fasttext (setup.py) ... \u001b[?25l\u001b[?25hdone\n",
            "  Created wheel for fasttext: filename=fasttext-0.9.2-cp37-cp37m-linux_x86_64.whl size=3162184 sha256=1ca70156bd692eae9c298636b9b4944b87173a4fcdbfc7c7569bbf63be4606f0\n",
            "  Stored in directory: /root/.cache/pip/wheels/4e/ca/bf/b020d2be95f7641801a6597a29c8f4f19e38f9c02a345bab9b\n",
            "Successfully built fasttext\n",
            "Installing collected packages: pybind11, fasttext\n",
            "Successfully installed fasttext-0.9.2 pybind11-2.10.0\n"
          ]
        }
      ]
    },
    {
      "cell_type": "code",
      "execution_count": 4,
      "metadata": {
        "id": "CjwaIUNfcyZc"
      },
      "outputs": [],
      "source": [
        "\n",
        "import numpy as np\n",
        "import tensorflow as tf\n",
        "\n",
        "np.random.seed(42)\n",
        "tf.random.set_seed(42)"
      ]
    },
    {
      "cell_type": "code",
      "source": [
        "from konlpy.tag import *\n",
        "import fasttext\n",
        "import pandas as pd\n",
        "import re\n",
        "from tqdm import tqdm_notebook\n",
        "import numpy as np\n",
        "from tensorflow.keras.layers import LSTM, Activation, Dropout, Dense, Input, Bidirectional\n",
        "from tensorflow.keras.layers import Embedding\n",
        "from tensorflow.keras.models import Model\n",
        "from tensorflow.keras.callbacks import EarlyStopping\n",
        "from tensorflow.keras import layers\n",
        "import keras\n",
        "from tensorflow.keras.models import Sequential\n",
        "from tensorflow.keras.preprocessing.text import Tokenizer\n",
        "from tensorflow.keras.preprocessing.sequence import pad_sequences"
      ],
      "metadata": {
        "id": "lHi1sWeKpMSq"
      },
      "execution_count": 5,
      "outputs": []
    },
    {
      "cell_type": "code",
      "source": [
        "from konlpy.tag import Okt\n",
        "okt = Okt()\n"
      ],
      "metadata": {
        "id": "GOwO8Lk4rhZ2"
      },
      "execution_count": 6,
      "outputs": []
    },
    {
      "cell_type": "markdown",
      "source": [
        "데이터셋 불러오기"
      ],
      "metadata": {
        "id": "6pCTYQpqd0u-"
      }
    },
    {
      "cell_type": "markdown",
      "source": [
        "자료는 공공 데이터 포탈에서 참고했습니다."
      ],
      "metadata": {
        "id": "zryWLl6KR9tj"
      }
    },
    {
      "cell_type": "code",
      "source": [],
      "metadata": {
        "id": "jtll2eXMR9P3"
      },
      "execution_count": null,
      "outputs": []
    },
    {
      "cell_type": "code",
      "source": [
        "import pandas as pd"
      ],
      "metadata": {
        "id": "FXIHzg9sdrBk"
      },
      "execution_count": 7,
      "outputs": []
    },
    {
      "cell_type": "code",
      "source": [
        "df_corona = pd.read_csv('/content/drive/MyDrive/Section4 Project/corona.csv')\n",
        "df_culture = pd.read_csv('/content/drive/MyDrive/Section4 Project/culture.csv', encoding='cp949')\n",
        "df_fake = pd.read_csv('/content/drive/MyDrive/Section4 Project/fake_news.csv')"
      ],
      "metadata": {
        "id": "oU8mvsEHd5LO"
      },
      "execution_count": 8,
      "outputs": []
    },
    {
      "cell_type": "code",
      "source": [
        "df_corona.head()"
      ],
      "metadata": {
        "colab": {
          "base_uri": "https://localhost:8080/",
          "height": 1000
        },
        "id": "sYpDliA9d60d",
        "outputId": "6708ac9a-a85d-47b0-c338-ed291b9d3846"
      },
      "execution_count": 8,
      "outputs": [
        {
          "output_type": "execute_result",
          "data": {
            "text/plain": [
              "                                                  주소          일자     언론사  기고자  \\\n",
              "0  http://www.bigkinds.or.kr/news/newsDetailView....  2021-07-01  디지털타임스  박재찬   \n",
              "1  http://www.bigkinds.or.kr/news/newsDetailView....  2021-07-01  디지털타임스   은진   \n",
              "2  http://www.bigkinds.or.kr/news/newsDetailView....  2021-07-01  디지털타임스  강민성   \n",
              "3  http://www.bigkinds.or.kr/news/newsDetailView....  2021-07-01  디지털타임스  강민성   \n",
              "4  http://www.bigkinds.or.kr/news/newsDetailView....  2021-07-01  디지털타임스  강민성   \n",
              "\n",
              "                                               제목   통합 분류1 통합 분류2    통합 분류3  \\\n",
              "0          폭염에 올 여름 전력수요 사상 최고치 전망...삐끗하면 `정전` 우려    경제>자원  경제>유통    경제>자동차   \n",
              "1  상반기 수출 3000억달러 돌파…반도체·친환경 날개 달고 올해 `역대급` 실적 전망    경제>무역  경제>유통  경제>증권_증시   \n",
              "2         나라빚 1000조인데, 채무상환 고작 2조…전문가들 재정정상화 생색내기  경제>경제일반    NaN       NaN   \n",
              "3                                  국세청 신임 차장에 임광현    지역>경남  지역>대구     지역>대전   \n",
              "4                           국세청 차장에 임광현…서울청장에 임성빈    지역>경남  지역>대구     지역>대전   \n",
              "\n",
              "  사건_사고 분류1 사건_사고 분류2 사건_사고 분류3                       개체명(인물)  \\\n",
              "0       NaN       NaN       NaN                           NaN   \n",
              "1       NaN       NaN       NaN                           문승욱   \n",
              "2       NaN       NaN       NaN                 박영범, 신세돈, 홍남기   \n",
              "3       NaN       NaN       NaN            김재철, 김창기, 임광현, 임성빈   \n",
              "4       NaN       NaN       NaN  김재철, 김창기, 임광현, 임광현…서울청장, 임성빈   \n",
              "\n",
              "                        개체명(지역)  \\\n",
              "0           경기, 고성하이화력, 부산, 태양광   \n",
              "1  미국, 아세안, 인도, 일본, 중국, 중남미, 중동   \n",
              "2                           NaN   \n",
              "3        경북, 봉화, 장흥, 전남, 충남, 홍성   \n",
              "4        경북, 봉화, 장흥, 전남, 충남, 홍성   \n",
              "\n",
              "                                           개체명(기업기관)  \\\n",
              "0                      국무총리, 산업부, 산업통상자원부, 전력거래소, 정부   \n",
              "1  CIS, EU, KOTRA, 무역협회, 산업부, 산업연구원, 산업통상자원부, 석유화...   \n",
              "2                  경제학과, 국가재정법, 기획재정부, 숙명여대, 정부, 한성대   \n",
              "3  국세청, 부산지방국세청, 부산청장, 서울지방국세청, 서울지방국세청장, 서울청, 중부...   \n",
              "4  국세청, 부산지방국세청, 부산청장, 서울지방국세청, 서울지방국세청장, 서울청, 중부...   \n",
              "\n",
              "                                                 키워드  \\\n",
              "0  폭염,전망,여름,전력,수요,사상,최고,정전,올여름,폭염,영향,산업,생산,증가,전기수...   \n",
              "1  3000억,상반기,수출,달러,돌파,반도체,친환경,날개,역대급,실적,전망,수출,상반기...   \n",
              "2  나라빚,채무상환,2조,전문가들,재정정상화,정부,초과,세수,예상,세계,잉여금,기금재원...   \n",
              "3  차장,국세청,신임,임광현,임광현,서울지방,국세청장,차장,국세청,임명,서울,청장,자리...   \n",
              "4  국세청,차장,임광현,서울청장,임성빈,국세청,인사,고위,정기,임광현,서울지방,국세청장...   \n",
              "\n",
              "                                                특성추출  \\\n",
              "0  여름철,올여름,산업부,전력수요,gw,예비력,대책기간,상한전망,발전기,전력판매량,최고...   \n",
              "1             반도체,상반기,수출액,친환경,3000억,원자재,기저효과,우리나라,경신   \n",
              "2  국가채무,2조,1000조,전문가,33조,채무상환,전문가들,본예산,한성대,홍남기,숙명...   \n",
              "3  국세청,서울지방국세청,임성빈,임광현,국세청장,부산,납세자,서울지방,서울지방국세청장,...   \n",
              "4  국세청,임성빈,서울지방국세청,임광현,국세청장,부산,납세자,서울청장,서울지방,서울지방...   \n",
              "\n",
              "                                                  본문  \\\n",
              "0  올여름 폭염과 산업생산 증가 영향으로 전기수요가 역대 최고치를 기록할 것이라는 전망...   \n",
              "1  올해 상반기 우리나라 수출이 누적 기준 사상 처음으로 3000억달러를 돌파했다......   \n",
              "2  정부가 올해 초과 세수 예상분 31조5000억원에 세계 잉여금, 기금재원까지 끌어모...   \n",
              "3  임광현 서울지방국세청장이 차기 국세청 차장으로 임명됐다... 서울청장 자리에는 임성...   \n",
              "4  임광현 서울지방국세청장이 차기 국세청 차장으로 임명됐다... 서울청장 자리에는 임성...   \n",
              "\n",
              "                                                원본주소  \n",
              "0  http://www.dt.co.kr/contents.html?article_no=2...  \n",
              "1  http://www.dt.co.kr/contents.html?article_no=2...  \n",
              "2  http://www.dt.co.kr/contents.html?article_no=2...  \n",
              "3  http://www.dt.co.kr/contents.html?article_no=2...  \n",
              "4  http://www.dt.co.kr/contents.html?article_no=2...  "
            ],
            "text/html": [
              "\n",
              "  <div id=\"df-920cc3cd-aad0-4575-b2de-4987a56bff25\">\n",
              "    <div class=\"colab-df-container\">\n",
              "      <div>\n",
              "<style scoped>\n",
              "    .dataframe tbody tr th:only-of-type {\n",
              "        vertical-align: middle;\n",
              "    }\n",
              "\n",
              "    .dataframe tbody tr th {\n",
              "        vertical-align: top;\n",
              "    }\n",
              "\n",
              "    .dataframe thead th {\n",
              "        text-align: right;\n",
              "    }\n",
              "</style>\n",
              "<table border=\"1\" class=\"dataframe\">\n",
              "  <thead>\n",
              "    <tr style=\"text-align: right;\">\n",
              "      <th></th>\n",
              "      <th>주소</th>\n",
              "      <th>일자</th>\n",
              "      <th>언론사</th>\n",
              "      <th>기고자</th>\n",
              "      <th>제목</th>\n",
              "      <th>통합 분류1</th>\n",
              "      <th>통합 분류2</th>\n",
              "      <th>통합 분류3</th>\n",
              "      <th>사건_사고 분류1</th>\n",
              "      <th>사건_사고 분류2</th>\n",
              "      <th>사건_사고 분류3</th>\n",
              "      <th>개체명(인물)</th>\n",
              "      <th>개체명(지역)</th>\n",
              "      <th>개체명(기업기관)</th>\n",
              "      <th>키워드</th>\n",
              "      <th>특성추출</th>\n",
              "      <th>본문</th>\n",
              "      <th>원본주소</th>\n",
              "    </tr>\n",
              "  </thead>\n",
              "  <tbody>\n",
              "    <tr>\n",
              "      <th>0</th>\n",
              "      <td>http://www.bigkinds.or.kr/news/newsDetailView....</td>\n",
              "      <td>2021-07-01</td>\n",
              "      <td>디지털타임스</td>\n",
              "      <td>박재찬</td>\n",
              "      <td>폭염에 올 여름 전력수요 사상 최고치 전망...삐끗하면 `정전` 우려</td>\n",
              "      <td>경제&gt;자원</td>\n",
              "      <td>경제&gt;유통</td>\n",
              "      <td>경제&gt;자동차</td>\n",
              "      <td>NaN</td>\n",
              "      <td>NaN</td>\n",
              "      <td>NaN</td>\n",
              "      <td>NaN</td>\n",
              "      <td>경기, 고성하이화력, 부산, 태양광</td>\n",
              "      <td>국무총리, 산업부, 산업통상자원부, 전력거래소, 정부</td>\n",
              "      <td>폭염,전망,여름,전력,수요,사상,최고,정전,올여름,폭염,영향,산업,생산,증가,전기수...</td>\n",
              "      <td>여름철,올여름,산업부,전력수요,gw,예비력,대책기간,상한전망,발전기,전력판매량,최고...</td>\n",
              "      <td>올여름 폭염과 산업생산 증가 영향으로 전기수요가 역대 최고치를 기록할 것이라는 전망...</td>\n",
              "      <td>http://www.dt.co.kr/contents.html?article_no=2...</td>\n",
              "    </tr>\n",
              "    <tr>\n",
              "      <th>1</th>\n",
              "      <td>http://www.bigkinds.or.kr/news/newsDetailView....</td>\n",
              "      <td>2021-07-01</td>\n",
              "      <td>디지털타임스</td>\n",
              "      <td>은진</td>\n",
              "      <td>상반기 수출 3000억달러 돌파…반도체·친환경 날개 달고 올해 `역대급` 실적 전망</td>\n",
              "      <td>경제&gt;무역</td>\n",
              "      <td>경제&gt;유통</td>\n",
              "      <td>경제&gt;증권_증시</td>\n",
              "      <td>NaN</td>\n",
              "      <td>NaN</td>\n",
              "      <td>NaN</td>\n",
              "      <td>문승욱</td>\n",
              "      <td>미국, 아세안, 인도, 일본, 중국, 중남미, 중동</td>\n",
              "      <td>CIS, EU, KOTRA, 무역협회, 산업부, 산업연구원, 산업통상자원부, 석유화...</td>\n",
              "      <td>3000억,상반기,수출,달러,돌파,반도체,친환경,날개,역대급,실적,전망,수출,상반기...</td>\n",
              "      <td>반도체,상반기,수출액,친환경,3000억,원자재,기저효과,우리나라,경신</td>\n",
              "      <td>올해 상반기 우리나라 수출이 누적 기준 사상 처음으로 3000억달러를 돌파했다......</td>\n",
              "      <td>http://www.dt.co.kr/contents.html?article_no=2...</td>\n",
              "    </tr>\n",
              "    <tr>\n",
              "      <th>2</th>\n",
              "      <td>http://www.bigkinds.or.kr/news/newsDetailView....</td>\n",
              "      <td>2021-07-01</td>\n",
              "      <td>디지털타임스</td>\n",
              "      <td>강민성</td>\n",
              "      <td>나라빚 1000조인데, 채무상환 고작 2조…전문가들 재정정상화 생색내기</td>\n",
              "      <td>경제&gt;경제일반</td>\n",
              "      <td>NaN</td>\n",
              "      <td>NaN</td>\n",
              "      <td>NaN</td>\n",
              "      <td>NaN</td>\n",
              "      <td>NaN</td>\n",
              "      <td>박영범, 신세돈, 홍남기</td>\n",
              "      <td>NaN</td>\n",
              "      <td>경제학과, 국가재정법, 기획재정부, 숙명여대, 정부, 한성대</td>\n",
              "      <td>나라빚,채무상환,2조,전문가들,재정정상화,정부,초과,세수,예상,세계,잉여금,기금재원...</td>\n",
              "      <td>국가채무,2조,1000조,전문가,33조,채무상환,전문가들,본예산,한성대,홍남기,숙명...</td>\n",
              "      <td>정부가 올해 초과 세수 예상분 31조5000억원에 세계 잉여금, 기금재원까지 끌어모...</td>\n",
              "      <td>http://www.dt.co.kr/contents.html?article_no=2...</td>\n",
              "    </tr>\n",
              "    <tr>\n",
              "      <th>3</th>\n",
              "      <td>http://www.bigkinds.or.kr/news/newsDetailView....</td>\n",
              "      <td>2021-07-01</td>\n",
              "      <td>디지털타임스</td>\n",
              "      <td>강민성</td>\n",
              "      <td>국세청 신임 차장에 임광현</td>\n",
              "      <td>지역&gt;경남</td>\n",
              "      <td>지역&gt;대구</td>\n",
              "      <td>지역&gt;대전</td>\n",
              "      <td>NaN</td>\n",
              "      <td>NaN</td>\n",
              "      <td>NaN</td>\n",
              "      <td>김재철, 김창기, 임광현, 임성빈</td>\n",
              "      <td>경북, 봉화, 장흥, 전남, 충남, 홍성</td>\n",
              "      <td>국세청, 부산지방국세청, 부산청장, 서울지방국세청, 서울지방국세청장, 서울청, 중부...</td>\n",
              "      <td>차장,국세청,신임,임광현,임광현,서울지방,국세청장,차장,국세청,임명,서울,청장,자리...</td>\n",
              "      <td>국세청,서울지방국세청,임성빈,임광현,국세청장,부산,납세자,서울지방,서울지방국세청장,...</td>\n",
              "      <td>임광현 서울지방국세청장이 차기 국세청 차장으로 임명됐다... 서울청장 자리에는 임성...</td>\n",
              "      <td>http://www.dt.co.kr/contents.html?article_no=2...</td>\n",
              "    </tr>\n",
              "    <tr>\n",
              "      <th>4</th>\n",
              "      <td>http://www.bigkinds.or.kr/news/newsDetailView....</td>\n",
              "      <td>2021-07-01</td>\n",
              "      <td>디지털타임스</td>\n",
              "      <td>강민성</td>\n",
              "      <td>국세청 차장에 임광현…서울청장에 임성빈</td>\n",
              "      <td>지역&gt;경남</td>\n",
              "      <td>지역&gt;대구</td>\n",
              "      <td>지역&gt;대전</td>\n",
              "      <td>NaN</td>\n",
              "      <td>NaN</td>\n",
              "      <td>NaN</td>\n",
              "      <td>김재철, 김창기, 임광현, 임광현…서울청장, 임성빈</td>\n",
              "      <td>경북, 봉화, 장흥, 전남, 충남, 홍성</td>\n",
              "      <td>국세청, 부산지방국세청, 부산청장, 서울지방국세청, 서울지방국세청장, 서울청, 중부...</td>\n",
              "      <td>국세청,차장,임광현,서울청장,임성빈,국세청,인사,고위,정기,임광현,서울지방,국세청장...</td>\n",
              "      <td>국세청,임성빈,서울지방국세청,임광현,국세청장,부산,납세자,서울청장,서울지방,서울지방...</td>\n",
              "      <td>임광현 서울지방국세청장이 차기 국세청 차장으로 임명됐다... 서울청장 자리에는 임성...</td>\n",
              "      <td>http://www.dt.co.kr/contents.html?article_no=2...</td>\n",
              "    </tr>\n",
              "  </tbody>\n",
              "</table>\n",
              "</div>\n",
              "      <button class=\"colab-df-convert\" onclick=\"convertToInteractive('df-920cc3cd-aad0-4575-b2de-4987a56bff25')\"\n",
              "              title=\"Convert this dataframe to an interactive table.\"\n",
              "              style=\"display:none;\">\n",
              "        \n",
              "  <svg xmlns=\"http://www.w3.org/2000/svg\" height=\"24px\"viewBox=\"0 0 24 24\"\n",
              "       width=\"24px\">\n",
              "    <path d=\"M0 0h24v24H0V0z\" fill=\"none\"/>\n",
              "    <path d=\"M18.56 5.44l.94 2.06.94-2.06 2.06-.94-2.06-.94-.94-2.06-.94 2.06-2.06.94zm-11 1L8.5 8.5l.94-2.06 2.06-.94-2.06-.94L8.5 2.5l-.94 2.06-2.06.94zm10 10l.94 2.06.94-2.06 2.06-.94-2.06-.94-.94-2.06-.94 2.06-2.06.94z\"/><path d=\"M17.41 7.96l-1.37-1.37c-.4-.4-.92-.59-1.43-.59-.52 0-1.04.2-1.43.59L10.3 9.45l-7.72 7.72c-.78.78-.78 2.05 0 2.83L4 21.41c.39.39.9.59 1.41.59.51 0 1.02-.2 1.41-.59l7.78-7.78 2.81-2.81c.8-.78.8-2.07 0-2.86zM5.41 20L4 18.59l7.72-7.72 1.47 1.35L5.41 20z\"/>\n",
              "  </svg>\n",
              "      </button>\n",
              "      \n",
              "  <style>\n",
              "    .colab-df-container {\n",
              "      display:flex;\n",
              "      flex-wrap:wrap;\n",
              "      gap: 12px;\n",
              "    }\n",
              "\n",
              "    .colab-df-convert {\n",
              "      background-color: #E8F0FE;\n",
              "      border: none;\n",
              "      border-radius: 50%;\n",
              "      cursor: pointer;\n",
              "      display: none;\n",
              "      fill: #1967D2;\n",
              "      height: 32px;\n",
              "      padding: 0 0 0 0;\n",
              "      width: 32px;\n",
              "    }\n",
              "\n",
              "    .colab-df-convert:hover {\n",
              "      background-color: #E2EBFA;\n",
              "      box-shadow: 0px 1px 2px rgba(60, 64, 67, 0.3), 0px 1px 3px 1px rgba(60, 64, 67, 0.15);\n",
              "      fill: #174EA6;\n",
              "    }\n",
              "\n",
              "    [theme=dark] .colab-df-convert {\n",
              "      background-color: #3B4455;\n",
              "      fill: #D2E3FC;\n",
              "    }\n",
              "\n",
              "    [theme=dark] .colab-df-convert:hover {\n",
              "      background-color: #434B5C;\n",
              "      box-shadow: 0px 1px 3px 1px rgba(0, 0, 0, 0.15);\n",
              "      filter: drop-shadow(0px 1px 2px rgba(0, 0, 0, 0.3));\n",
              "      fill: #FFFFFF;\n",
              "    }\n",
              "  </style>\n",
              "\n",
              "      <script>\n",
              "        const buttonEl =\n",
              "          document.querySelector('#df-920cc3cd-aad0-4575-b2de-4987a56bff25 button.colab-df-convert');\n",
              "        buttonEl.style.display =\n",
              "          google.colab.kernel.accessAllowed ? 'block' : 'none';\n",
              "\n",
              "        async function convertToInteractive(key) {\n",
              "          const element = document.querySelector('#df-920cc3cd-aad0-4575-b2de-4987a56bff25');\n",
              "          const dataTable =\n",
              "            await google.colab.kernel.invokeFunction('convertToInteractive',\n",
              "                                                     [key], {});\n",
              "          if (!dataTable) return;\n",
              "\n",
              "          const docLinkHtml = 'Like what you see? Visit the ' +\n",
              "            '<a target=\"_blank\" href=https://colab.research.google.com/notebooks/data_table.ipynb>data table notebook</a>'\n",
              "            + ' to learn more about interactive tables.';\n",
              "          element.innerHTML = '';\n",
              "          dataTable['output_type'] = 'display_data';\n",
              "          await google.colab.output.renderOutput(dataTable, element);\n",
              "          const docLink = document.createElement('div');\n",
              "          docLink.innerHTML = docLinkHtml;\n",
              "          element.appendChild(docLink);\n",
              "        }\n",
              "      </script>\n",
              "    </div>\n",
              "  </div>\n",
              "  "
            ]
          },
          "metadata": {},
          "execution_count": 8
        }
      ]
    },
    {
      "cell_type": "code",
      "source": [
        "df_corona['label']= 0\n",
        "df_culture['label']=0\n",
        "df_fake['label']=1\n",
        "\n",
        "df_1 = pd.concat([df_corona, df_culture])\n",
        "df = pd.concat([df_1,df_fake])\n",
        "df"
      ],
      "metadata": {
        "id": "FAXMfe-iijtl"
      },
      "execution_count": null,
      "outputs": []
    },
    {
      "cell_type": "code",
      "source": [
        "df_test = df[['제목','본문', 'label']]"
      ],
      "metadata": {
        "id": "ABnWw1cQQztx"
      },
      "execution_count": 10,
      "outputs": []
    },
    {
      "cell_type": "markdown",
      "source": [
        "필요한 데이터만 뽑아내기 및 불용어 처리"
      ],
      "metadata": {
        "id": "Ax9HaeKsd7Y1"
      }
    },
    {
      "cell_type": "code",
      "source": [
        "def get_stopwords():\n",
        "    stopwords = list()\n",
        "    \n",
        "    f = open('/content/drive/MyDrive/Section4 Project/stopwords.txt', 'r', encoding='utf-8')\n",
        "    \n",
        "    while True:\n",
        "        line = f.readline()\n",
        "        if not line: break\n",
        "        stopwords.append(line.strip())\n",
        "        \n",
        "    return stopwords\n",
        "\n",
        "def okt_tokenizer(text):\n",
        "    okt = Okt()\n",
        "    text = re.sub(r'[^ ㄱ-ㅣ가-힣A-Za-z]', '', text) # 특수기호 제거\n",
        "    stopwords = get_stopwords() # 불용어\n",
        "    \n",
        "    return [token for token in okt.nouns(text)\n",
        "            if len(token) > 1 and token not in stopwords]"
      ],
      "metadata": {
        "id": "se3Dfeh1d_Vp"
      },
      "execution_count": 11,
      "outputs": []
    },
    {
      "cell_type": "code",
      "source": [],
      "metadata": {
        "id": "gkwvI5vVQtn3"
      },
      "execution_count": null,
      "outputs": []
    },
    {
      "cell_type": "markdown",
      "source": [
        "데이터 TF_IDF 사용하여 유사도 확인"
      ],
      "metadata": {
        "id": "y-wMs6NOeB26"
      }
    },
    {
      "cell_type": "code",
      "source": [
        "import pathlib\n",
        "import random\n",
        "import string\n",
        "import re\n",
        "import numpy as np\n",
        "import tensorflow as tf\n",
        "from tensorflow import keras\n",
        "from tensorflow.keras import layers\n",
        "from tensorflow.keras.layers.experimental.preprocessing import TextVectorization\n",
        "import spacy\n",
        "from spacy.tokenizer import Tokenizer\n",
        "from tensorflow.keras.preprocessing.text import Tokenizer\n",
        "\n",
        "from sklearn.feature_extraction.text import CountVectorizer, TfidfVectorizer\n",
        "from sklearn.metrics.pairwise import cosine_similarity\n",
        "from sklearn.neighbors import NearestNeighbors"
      ],
      "metadata": {
        "id": "rYt3wNKteF1v"
      },
      "execution_count": 12,
      "outputs": []
    },
    {
      "cell_type": "code",
      "source": [
        "tfidf = TfidfVectorizer(max_features=300, tokenizer= okt_tokenizer)"
      ],
      "metadata": {
        "id": "ChJWWYzjhOU_"
      },
      "execution_count": 14,
      "outputs": []
    },
    {
      "cell_type": "markdown",
      "source": [
        "결측치 제거"
      ],
      "metadata": {
        "id": "OwV1ofTDUO-S"
      }
    },
    {
      "cell_type": "code",
      "source": [
        "df_test = df_test.dropna()"
      ],
      "metadata": {
        "id": "e9suC086T-nL"
      },
      "execution_count": 17,
      "outputs": []
    },
    {
      "cell_type": "code",
      "source": [
        "tdm = tfidf.fit_transform(df_test['본문'])"
      ],
      "metadata": {
        "id": "5Ux-BaSzTX4s"
      },
      "execution_count": null,
      "outputs": []
    },
    {
      "cell_type": "code",
      "source": [
        "word_count = pd.DataFrame({\n",
        "    '단어':  CountVectorizer.get_feature_names(),\n",
        "    'tf-idf': tdm.sum(axis=0).flat\n",
        "})"
      ],
      "metadata": {
        "id": "TynekhyXUhzF"
      },
      "execution_count": null,
      "outputs": []
    },
    {
      "cell_type": "code",
      "source": [
        "word_count.sort_values('tf-idf', ascending=False).head(5)"
      ],
      "metadata": {
        "id": "t99t6bmrUj3r"
      },
      "execution_count": null,
      "outputs": []
    },
    {
      "cell_type": "code",
      "source": [
        "from sklearn.model_selection import train_test_split\n",
        "from sklearn.tree import DecisionTreeClassifier\n",
        "from sklearn.metrics import precision_score, recall_score\n",
        "X_train, X_test, y_train, y_test = train_test_split(\n",
        "    df_test, df_test['label'], test_size=0.2, random_state= 42)"
      ],
      "metadata": {
        "id": "hdHvuhZ_5A0l"
      },
      "execution_count": 13,
      "outputs": []
    },
    {
      "cell_type": "code",
      "source": [],
      "metadata": {
        "id": "Zyne2WJxS2Ii"
      },
      "execution_count": null,
      "outputs": []
    },
    {
      "cell_type": "code",
      "source": [
        "embedding_dim = 128\n",
        "hidden_units = 128\n",
        "\n",
        "model = Sequential()\n",
        "model.add(Embedding(vocab_size, embedding_dim, mask_zero=True))\n",
        "model.add(Bidirectional(LSTM(hidden_units, return_sequences=True)))\n",
        "model.add(TimeDistributed(Dense(tag_size, activation=('softmax'))))\n",
        "\n",
        "model.compile(loss='sparse_categorical_crossentropy', optimizer=Adam(0.001), metrics=['accuracy'])\n",
        "model.fit(X_train, y_train, batch_size=128, epochs=7, validation_data=(X_test, y_test))"
      ],
      "metadata": {
        "id": "e-zti-AbVMZz"
      },
      "execution_count": null,
      "outputs": []
    }
  ]
}